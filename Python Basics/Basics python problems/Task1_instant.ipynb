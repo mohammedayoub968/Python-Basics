{
  "nbformat": 4,
  "nbformat_minor": 0,
  "metadata": {
    "colab": {
      "provenance": []
    },
    "kernelspec": {
      "name": "python3",
      "display_name": "Python 3"
    },
    "language_info": {
      "name": "python"
    }
  },
  "cells": [
    {
      "cell_type": "markdown",
      "source": [
        "## **1- Write a Python program to find the area of a triangle**\n"
      ],
      "metadata": {
        "id": "lqSqmqjNtmEu"
      }
    },
    {
      "cell_type": "code",
      "source": [
        "print(\"Dear, this program will help you to calculate the area of the traingle , injoy \")\n",
        "base = float(input(\"Please Enter the base of the trainge : \"))\n",
        "height = float(input(\"Please Enter the height of the trainge : \"))\n",
        "area = 0.5 * base * height\n",
        "print(f\"The area of the traingle that have base = {base} and hight = {height} is {area}\")"
      ],
      "metadata": {
        "colab": {
          "base_uri": "https://localhost:8080/"
        },
        "id": "xwPXs1IPtq3f",
        "outputId": "2c6d7875-ba91-4439-cb42-917544cf25f8"
      },
      "execution_count": 4,
      "outputs": [
        {
          "output_type": "stream",
          "name": "stdout",
          "text": [
            "Dear , this program will help you to calculate the area of the traingle , injoy \n",
            "Please Enter the base of the trainge : 2.5\n",
            "Please Enter the height of the trainge : 8.6\n",
            "The area of the traingle that have base = 2.5 and hight = 8.6 is 10.75\n"
          ]
        }
      ]
    },
    {
      "cell_type": "markdown",
      "source": [
        "# **2- Write a Python program to swap two variables.**"
      ],
      "metadata": {
        "id": "RC-Cfz24wAQK"
      }
    },
    {
      "cell_type": "code",
      "source": [
        "print(\"Please know that this program swap the values that you are store in the variabels \")\n",
        "first_varible = input(\"Please enter the value that you want to store in the first variable : \")\n",
        "second_varible = input(\"Please enter the value that you want to store in the second variable :  \")\n",
        "first_varible , second_varible = second_varible , first_varible\n",
        "print(f\"The value of variabels after swaping first varable : {first_varible} , second variable : {second_varible}\")"
      ],
      "metadata": {
        "colab": {
          "base_uri": "https://localhost:8080/"
        },
        "id": "Ks3ubtW_wN0G",
        "outputId": "d01efe6c-dc25-4f92-ad61-3fd678ec34b9"
      },
      "execution_count": 6,
      "outputs": [
        {
          "output_type": "stream",
          "name": "stdout",
          "text": [
            "Please know that this program swap the values that you are store in the variabels \n",
            "Please enter the value that you want to store in the first variable 4\n",
            "Please enter the value that you want to store in the second variable 8\n",
            "The value of variabels after swaping first varable : 8 , second variable : 4\n"
          ]
        }
      ]
    },
    {
      "cell_type": "markdown",
      "source": [
        "# **3-Write a Python program to enter a number from user and convert this number from kilometers to miles.**"
      ],
      "metadata": {
        "id": "dm04n2jM0wzB"
      }
    },
    {
      "cell_type": "code",
      "source": [
        "print(\"Please know that this program convert kilometers to miles \")\n",
        "kilometer = float(input(\"Please enter the kilometers that you need to conver to miles\"))\n",
        "miles = kilometer * 0.621371\n",
        "print(f\"{kilometer} kilometers = {miles} miles \")"
      ],
      "metadata": {
        "colab": {
          "base_uri": "https://localhost:8080/"
        },
        "id": "kXQnKi6q01AG",
        "outputId": "51ab235a-3ab7-4fea-b1e4-f1c53e26ca69"
      },
      "execution_count": 8,
      "outputs": [
        {
          "output_type": "stream",
          "name": "stdout",
          "text": [
            "Please know that this program convert kilometers to miles \n",
            "Please enter the kilometers that you need to conver to miles549\n",
            "549.0 kilometers = 341.132679 miles \n"
          ]
        }
      ]
    },
    {
      "cell_type": "code",
      "source": [],
      "metadata": {
        "id": "4eggW9ex2zcb"
      },
      "execution_count": null,
      "outputs": []
    }
  ]
}