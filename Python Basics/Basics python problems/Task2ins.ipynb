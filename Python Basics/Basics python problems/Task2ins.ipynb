{
  "nbformat": 4,
  "nbformat_minor": 0,
  "metadata": {
    "colab": {
      "provenance": [],
      "authorship_tag": "ABX9TyNYbJqyBp0JwAOtzyq04eXO",
      "include_colab_link": true
    },
    "kernelspec": {
      "name": "python3",
      "display_name": "Python 3"
    },
    "language_info": {
      "name": "python"
    }
  },
  "cells": [
    {
      "cell_type": "markdown",
      "metadata": {
        "id": "view-in-github",
        "colab_type": "text"
      },
      "source": [
        "<a href=\"https://colab.research.google.com/github/mohammedayoub968/Ai-journey/blob/main/Task2ins.ipynb\" target=\"_parent\"><img src=\"https://colab.research.google.com/assets/colab-badge.svg\" alt=\"Open In Colab\"/></a>"
      ]
    },
    {
      "cell_type": "markdown",
      "source": [],
      "metadata": {
        "id": "wCiKpY-bWogb"
      }
    },
    {
      "cell_type": "markdown",
      "source": [
        "\n",
        "\n",
        "---\n",
        "\n",
        "\n",
        "# **WAP to enter a number from user and print its absolute value.**"
      ],
      "metadata": {
        "id": "MnWAiH2o0zSa"
      }
    },
    {
      "cell_type": "code",
      "execution_count": 1,
      "metadata": {
        "colab": {
          "base_uri": "https://localhost:8080/"
        },
        "id": "eK__1i1TWjmt",
        "outputId": "55f64f4a-1bc8-49b8-927e-62711331fefd"
      },
      "outputs": [
        {
          "output_type": "stream",
          "name": "stdout",
          "text": [
            "Enter the number you want to get the absolute of it : -5.4\n",
            "The absolute value of -5.4 is 5.4\n"
          ]
        }
      ],
      "source": [
        "number = float(input(\"Enter the number you want to get the absolute of it : \"))\n",
        "\n",
        "if number >= 0 :\n",
        "  print(f\"The absolute value of {number} is {number}\")\n",
        "else :\n",
        "  print(f\"The absolute value of {number} is {number * -1}\")\n",
        ""
      ]
    },
    {
      "cell_type": "markdown",
      "source": [
        "# \\# **WAP to enter a year from user and check if it is leap year or not.**"
      ],
      "metadata": {
        "id": "sFX0a6RdX3vR"
      }
    },
    {
      "cell_type": "code",
      "source": [
        "year = int(input(\"Enter the year you want to cheak it is leap or not : \"))\n",
        "\n",
        "if (year % 4 == 0 ) and  (year % 100 != 0):\n",
        "  print(f\"{year} is leaf year\")\n",
        "elif (year % 400 ==0 ) and (year % 100 == 0):\n",
        "  print(f\"{year} is leaf year\")\n",
        "else:\n",
        "  print(f\"{year} is not leaf year\")\n",
        ""
      ],
      "metadata": {
        "colab": {
          "base_uri": "https://localhost:8080/"
        },
        "id": "Y4eLKSgpXxMl",
        "outputId": "ee32dfee-105d-4343-8d0a-e2a314ecbd3d"
      },
      "execution_count": 5,
      "outputs": [
        {
          "output_type": "stream",
          "name": "stdout",
          "text": [
            "Enter the year you want to cheak it is leap or not : 2012\n",
            "2012 is leaf year\n"
          ]
        }
      ]
    },
    {
      "cell_type": "markdown",
      "source": [
        "# **WAP to enter the age of 3 person and print oldest and yougest among them.**"
      ],
      "metadata": {
        "id": "8h6JXSOxaTUB"
      }
    },
    {
      "cell_type": "code",
      "source": [
        "person1 = int(input(\"Enter the age of the first person : \"))\n",
        "person2 = int(input(\"Enter the age of the second person : \"))\n",
        "person3 = int(input(\"Enter the age of the third person : \"))\n",
        "\n",
        "if (person1 > person2) and (person1 > person3) :\n",
        "  if person2  > person3:\n",
        "    print(f\"\"\"Arrange persons from oldest to youngest : \\n\n",
        "              Person1 : {person1} years old \\n\n",
        "              Person2 : {person2} years old \\n\n",
        "              Person3 : {person3} years old \\n\"\"\")\n",
        "  else:\n",
        "    print(f\"\"\"Arrange persons from oldest to youngest : \\n\n",
        "              Person1 : {person1} years old \\n\n",
        "              Person3 : {person3} years old \\n\n",
        "              Person2 : {person2} years old \\n\"\"\")\n",
        "elif (person2 > person1) and (person2 > person3) :\n",
        "  if person1  > person3:\n",
        "    print(f\"\"\"Arrange persons from oldest to youngest : \\n\n",
        "              Person2 : {person2} years old \\n\n",
        "              Person1 : {person1} years old \\n\n",
        "              Person3 : {person3} years old \\n\"\"\")\n",
        "  else:\n",
        "    print(f\"\"\"Arrange persons from oldest to youngest : \\n\n",
        "              Person2 : {person2} years old \\n\n",
        "              Person3 : {person3} years old \\n\n",
        "              Person1 : {person1} years old \\n\"\"\")\n",
        "else :\n",
        "  if person2  > person1:\n",
        "    print(f\"\"\"Arrange persons from oldest to youngest : \\n\n",
        "              Person3 : {person3} years old \\n\n",
        "              Person2 : {person2} years old \\n\n",
        "              Person1 : {person1} years old \\n\"\"\")\n",
        "  else:\n",
        "    print(f\"\"\"Arrange persons from oldest to youngest : \\n\n",
        "              Person3 : {person3} years old \\n\n",
        "              Person1 : {person1} years old \\n\n",
        "              Person2 : {person2} years old \\n\"\"\")"
      ],
      "metadata": {
        "colab": {
          "base_uri": "https://localhost:8080/"
        },
        "id": "xZKipxyraGZ4",
        "outputId": "a52fcc01-d51e-45fe-97b4-e6cd94d799e7"
      },
      "execution_count": 7,
      "outputs": [
        {
          "output_type": "stream",
          "name": "stdout",
          "text": [
            "Enter the age of the first person : 20 \n",
            "Enter the age of the second person : 60\n",
            "Enter the age of the third person : 80\n",
            "Arrange persons from oldest to youngest : \n",
            "\n",
            "              Person3 : 80 years old \n",
            "\n",
            "              Person2 : 60 years old \n",
            "\n",
            "              Person1 : 20 years old \n",
            "\n"
          ]
        }
      ]
    },
    {
      "cell_type": "markdown",
      "source": [
        "# **Write a program that asks the user to enter a series of numbers. The program should ask for numbers until the user enters a negative number. Once the user enters a negative number, the program should stop and print the sum of all the positive numbers entered**\n",
        "# **Example**\n",
        "# **Enter a number: 5**\n",
        "# **Enter a number: 8**\n",
        "# **Enter a number: 12**\n",
        "# **Enter a number: -2**\n",
        "# **The sum of the positive numbers is 25.**"
      ],
      "metadata": {
        "id": "TDbtgVa4eLDc"
      }
    },
    {
      "cell_type": "code",
      "source": [
        "sum = 0\n",
        "while True :\n",
        "  number = float(input(\"Enter a number : \"))\n",
        "  if number >= 0 :\n",
        "    sum += number\n",
        "  else :\n",
        "    print(f\" The sum of the positive numbers is {sum}\")\n",
        "    break"
      ],
      "metadata": {
        "colab": {
          "base_uri": "https://localhost:8080/"
        },
        "id": "7CHXotzRd5T8",
        "outputId": "8a1d9fad-e99f-4a50-db03-961b0e669853"
      },
      "execution_count": 9,
      "outputs": [
        {
          "output_type": "stream",
          "name": "stdout",
          "text": [
            "Enter a number : 5\n",
            "Enter a number : 8\n",
            "Enter a number : 12\n",
            "Enter a number : -2\n",
            " The sum of the positive numbers is 25.0\n"
          ]
        }
      ]
    },
    {
      "cell_type": "markdown",
      "source": [
        "# **Write a program that asks the user to enter their name and age. The program should check if the user's age is greater than or equal to 18. If it is, the program should print a message saying they are eligible to vote. Otherwise, the program should print a message saying they are not eligible to vote due to being underage.**"
      ],
      "metadata": {
        "id": "JrfLx-nxf-v6"
      }
    },
    {
      "cell_type": "code",
      "source": [
        "while True:\n",
        "  name = input(\"Please enter your name : \")\n",
        "  age = int(input(\"Enter your age : \"))\n",
        "  if age >= 18 :\n",
        "    print(\"You are eligible to vote \")\n",
        "    break\n",
        "  else:\n",
        "    print(\"You are not eligible to vote \")\n",
        "    break"
      ],
      "metadata": {
        "colab": {
          "base_uri": "https://localhost:8080/"
        },
        "id": "yFSaC2l9fom_",
        "outputId": "4ca06a78-81c9-4c6c-9f09-3e16722a4a07"
      },
      "execution_count": 12,
      "outputs": [
        {
          "output_type": "stream",
          "name": "stdout",
          "text": [
            "Please enter your name : Ayoub\n",
            "Enter your age : 20\n",
            "You are eligible to vote \n"
          ]
        }
      ]
    },
    {
      "cell_type": "markdown",
      "source": [
        "# **Write a Python Program to Find the Factorial of a Number**"
      ],
      "metadata": {
        "id": "MWzwT9OphseO"
      }
    },
    {
      "cell_type": "code",
      "source": [
        "number = int(input(\"Enter the number you want to get a factorial of it : \"))\n",
        "factorial = 1\n",
        "for i in range(1 , number +1 ):\n",
        "  factorial *= i\n",
        "print(f\"The factorial of {number} is {factorial}\")"
      ],
      "metadata": {
        "colab": {
          "base_uri": "https://localhost:8080/"
        },
        "id": "_i-0Y4LUhU-f",
        "outputId": "a842daf3-7db5-476d-d50a-070da9c75dbc"
      },
      "execution_count": 13,
      "outputs": [
        {
          "output_type": "stream",
          "name": "stdout",
          "text": [
            "Enter the number you want to get a factorial of it : 5\n",
            "The factorial of 5 is 120\n"
          ]
        }
      ]
    }
  ]
}