{
  "cells": [
    {
      "cell_type": "markdown",
      "metadata": {
        "id": "view-in-github",
        "colab_type": "text"
      },
      "source": [
        "<a href=\"https://colab.research.google.com/github/mohammedayoub968/Ai-journey/blob/main/task_3.ipynb\" target=\"_parent\"><img src=\"https://colab.research.google.com/assets/colab-badge.svg\" alt=\"Open In Colab\"/></a>"
      ]
    },
    {
      "cell_type": "markdown",
      "id": "ff38aad7",
      "metadata": {
        "id": "ff38aad7"
      },
      "source": [
        "### 1-Write a Python program that takes two numbers as user input and performs addition on them."
      ]
    },
    {
      "cell_type": "code",
      "execution_count": null,
      "id": "91696b79",
      "metadata": {
        "id": "91696b79",
        "colab": {
          "base_uri": "https://localhost:8080/"
        },
        "outputId": "47d434ac-9d25-49a4-b05f-7da3dead3c8d"
      },
      "outputs": [
        {
          "output_type": "stream",
          "name": "stdout",
          "text": [
            "Enter the first number you want to add it : 10\n",
            "Enter the second number you want to add it : 20\n",
            "The summation of 10.0 + 20.0 = 30.0\n"
          ]
        }
      ],
      "source": [
        "number1 = float(input(\"Enter the first number you want to add it : \"))\n",
        "number2 = float(input(\"Enter the second number you want to add it : \"))\n",
        "sum = number1 + number2\n",
        "print(f\"The summation of {number1} + {number2} = {sum}\")"
      ]
    },
    {
      "cell_type": "markdown",
      "id": "360854ff",
      "metadata": {
        "id": "360854ff"
      },
      "source": [
        "### 2-Write a Python program that takes an integer as input and checks if it is even or odd. Print \"Even\" if the number is divisible by 2, otherwise print \"Odd\"."
      ]
    },
    {
      "cell_type": "code",
      "execution_count": null,
      "id": "ee4c35fe",
      "metadata": {
        "ExecuteTime": {
          "end_time": "2023-07-23T21:35:24.351946Z",
          "start_time": "2023-07-23T21:35:23.287212Z"
        },
        "id": "ee4c35fe",
        "colab": {
          "base_uri": "https://localhost:8080/"
        },
        "outputId": "665cfae8-e90d-4bcd-b031-0a6675d7bee9"
      },
      "outputs": [
        {
          "output_type": "stream",
          "name": "stdout",
          "text": [
            "Enter the number you want to cheack if it is even or odd : 14\n",
            "Even\n"
          ]
        }
      ],
      "source": [
        "number = int(input(\"Enter the number you want to cheack if it is even or odd : \"))\n",
        "if number % 2 == 0 :\n",
        "  print(\"Even\")\n",
        "else:\n",
        "  print(\"Odd\")"
      ]
    },
    {
      "cell_type": "markdown",
      "id": "6ea0354c",
      "metadata": {
        "id": "6ea0354c"
      },
      "source": [
        "### 3-Write a Python program that prints all the even numbers from 1 to 20 using a for loop"
      ]
    },
    {
      "cell_type": "code",
      "execution_count": null,
      "id": "df43b7f5",
      "metadata": {
        "ExecuteTime": {
          "end_time": "2023-07-23T21:36:51.373589Z",
          "start_time": "2023-07-23T21:36:51.365580Z"
        },
        "id": "df43b7f5",
        "colab": {
          "base_uri": "https://localhost:8080/"
        },
        "outputId": "30df2de6-7c83-4d1f-ea08-8a55e3551a65"
      },
      "outputs": [
        {
          "output_type": "stream",
          "name": "stdout",
          "text": [
            "All Even numbers from 1 to 20 are : \n",
            "\n",
            "0\n",
            "2\n",
            "4\n",
            "6\n",
            "8\n",
            "10\n",
            "12\n",
            "14\n",
            "16\n",
            "18\n",
            "20\n"
          ]
        }
      ],
      "source": [
        "print(\"All Even numbers from 1 to 20 are : \\n\")\n",
        "for i in range(21):\n",
        "  if i % 2 == 0:\n",
        "    print(i)"
      ]
    },
    {
      "cell_type": "markdown",
      "id": "2d66bab2",
      "metadata": {
        "id": "2d66bab2"
      },
      "source": [
        "### 4-Write a Python function that takes a string as input and counts the number of vowels (a, e, i, o, u) in the string. The function should return the count"
      ]
    },
    {
      "cell_type": "code",
      "execution_count": null,
      "id": "a37a84fd",
      "metadata": {
        "ExecuteTime": {
          "end_time": "2023-07-23T21:45:58.522044Z",
          "start_time": "2023-07-23T21:45:58.514370Z"
        },
        "id": "a37a84fd"
      },
      "outputs": [],
      "source": [
        "def vowels_count(word):\n",
        "  count = 0\n",
        "  for i in word.lower():\n",
        "    if i in \"aeiou\":\n",
        "        count += 1\n",
        "  return count\n"
      ]
    },
    {
      "cell_type": "code",
      "source": [
        "word = input(\"Enter the string that you want to count vowels letter in it : \")\n",
        "count = vowels_count(word)\n",
        "print(f\"The word {word} have {count} vowel letter\")"
      ],
      "metadata": {
        "colab": {
          "base_uri": "https://localhost:8080/"
        },
        "id": "lqi1jYtVuv16",
        "outputId": "1f66a3c7-42f4-4d15-9d97-c9527e6c618e"
      },
      "id": "lqi1jYtVuv16",
      "execution_count": null,
      "outputs": [
        {
          "output_type": "stream",
          "name": "stdout",
          "text": [
            "Enter the string that you want to count vowels letter in it : Mohammed\n",
            "The word Mohammed have 3 vowel letter\n"
          ]
        }
      ]
    },
    {
      "cell_type": "markdown",
      "id": "a9a0ea06",
      "metadata": {
        "id": "a9a0ea06"
      },
      "source": [
        "### 5-Write a Python program that creates a list of numbers from 1 to 10. Use a loop to iterate over the list and print each number of power 2."
      ]
    },
    {
      "cell_type": "code",
      "execution_count": null,
      "id": "6fa658cf",
      "metadata": {
        "ExecuteTime": {
          "end_time": "2023-07-23T21:48:02.328880Z",
          "start_time": "2023-07-23T21:48:02.314313Z"
        },
        "id": "6fa658cf",
        "colab": {
          "base_uri": "https://localhost:8080/"
        },
        "outputId": "fc0a488a-bef2-48f9-9be5-b374d0624863"
      },
      "outputs": [
        {
          "output_type": "stream",
          "name": "stdout",
          "text": [
            "1\n",
            "4\n",
            "9\n",
            "16\n",
            "25\n",
            "36\n",
            "49\n",
            "64\n",
            "81\n",
            "100\n"
          ]
        }
      ],
      "source": [
        "container  = []\n",
        "for i in range(1 , 11):\n",
        "  container.append(i)\n",
        "for i in container :\n",
        "  print(pow(i , 2))"
      ]
    },
    {
      "cell_type": "markdown",
      "id": "430c9df9",
      "metadata": {
        "id": "430c9df9"
      },
      "source": [
        "### 6-Write a Python program that calculates the average grade for a student based on their scores in different subjects. The program should include the following steps:\n",
        "\n",
        "#### 1-Create variables to store the student's name, subject names, and corresponding scores. Initialize the variables with sample data.\n",
        "\n",
        "#### 2-Prompt the user to enter the student's name and assign it to the name variable.\n",
        "\n",
        "#### 3-Use a loop to prompt the user to enter the subject names and corresponding scores. Store the subject names in a list and the scores in another list.\n",
        "\n",
        "#### 4-After collecting the scores, calculate the average grade by summing up all the scores and dividing by the total number of subjects.\n",
        "\n",
        "#### 5-Check if the average grade is above a 70, print a congratulatory message. Otherwise, print an encouragement message."
      ]
    },
    {
      "cell_type": "code",
      "execution_count": null,
      "id": "e0254271",
      "metadata": {
        "ExecuteTime": {
          "end_time": "2023-07-15T16:16:17.066909Z",
          "start_time": "2023-07-15T16:16:07.636799Z"
        },
        "id": "e0254271",
        "colab": {
          "base_uri": "https://localhost:8080/"
        },
        "outputId": "2983ec06-7e71-46b7-a040-d23fe5bd2dd7"
      },
      "outputs": [
        {
          "output_type": "stream",
          "name": "stdout",
          "text": [
            "Enter Student name : bdhn\n",
            "Enter number of subject that you want to enter : 3\n",
            "Enter the subject name : fsn\n",
            "Enter the scor of the fsn : 70\n",
            "Enter the subject name : 58\n",
            "Enter the scor of the 58 : 58\n",
            "Enter the subject name : xh \n",
            "Enter the scor of the xh  : 90\n",
            "72.66666666666667\n",
            "Congratulations! Keep up the great work!\n"
          ]
        }
      ],
      "source": [
        "name = \"Ahmed\"\n",
        "subjects = []\n",
        "scores = []\n",
        "name = input(\"Enter Student name : \")\n",
        "subject_num = int(input(\"Enter number of subject that you want to enter : \"))\n",
        "for i in range(subject_num):\n",
        "  subject = input(\"Enter the subject name : \")\n",
        "  score = int(input(f\"Enter the scor of the {subject} : \"))\n",
        "  subjects.append(subject)\n",
        "  scores.append(score)\n",
        "total = sum(scores)\n",
        "average = total / subject_num\n",
        "if average > 70:\n",
        "    print(\"Congratulations! Keep up the great work!\")\n",
        "else:\n",
        "    print(\"Don't give up! Keep trying and you’ll improve!\")"
      ]
    },
    {
      "cell_type": "code",
      "execution_count": null,
      "id": "37b3ff97",
      "metadata": {
        "ExecuteTime": {
          "end_time": "2023-07-23T21:56:24.493717Z",
          "start_time": "2023-07-23T21:56:17.227071Z"
        },
        "id": "37b3ff97"
      },
      "outputs": [],
      "source": []
    },
    {
      "cell_type": "markdown",
      "id": "ae9df360",
      "metadata": {
        "id": "ae9df360"
      },
      "source": [
        "### 7-Find Common Elements\n",
        "### Write a Python function that takes two lists as input and returns a new list containing the common elements present in both lists."
      ]
    },
    {
      "cell_type": "code",
      "execution_count": null,
      "id": "d030c3c0",
      "metadata": {
        "ExecuteTime": {
          "end_time": "2023-07-23T22:08:16.794474Z",
          "start_time": "2023-07-23T22:08:16.775639Z"
        },
        "id": "d030c3c0"
      },
      "outputs": [],
      "source": [
        "list1 = [1, 2, 3, 4, 5]\n",
        "list2 = [4, 5, 6, 7, 8]\n",
        "\n",
        "common_elements = []\n",
        "\n",
        "for item in list1:\n",
        "    if item in list2 and item not in common_elements:\n",
        "        common_elements.append(item)\n",
        "\n",
        "print(\"Common elements:\", common_elements)\n"
      ]
    },
    {
      "cell_type": "code",
      "execution_count": null,
      "id": "371369cd",
      "metadata": {
        "ExecuteTime": {
          "end_time": "2023-07-23T23:56:27.326200Z",
          "start_time": "2023-07-23T23:56:27.326200Z"
        },
        "id": "371369cd"
      },
      "outputs": [],
      "source": []
    },
    {
      "cell_type": "markdown",
      "id": "9a2f34cb",
      "metadata": {
        "id": "9a2f34cb"
      },
      "source": [
        "### 8-Write a Python function that takes a list of numbers and an element to remove from the list."
      ]
    },
    {
      "cell_type": "code",
      "execution_count": 4,
      "id": "78de9fe8",
      "metadata": {
        "ExecuteTime": {
          "end_time": "2023-07-23T22:21:36.514592Z",
          "start_time": "2023-07-23T22:21:36.505437Z"
        },
        "id": "78de9fe8"
      },
      "outputs": [],
      "source": [
        "def remove_element(a, el):\n",
        "  if el in a :\n",
        "    a.remove(el)\n",
        "    print(f\"The element {el} is removed sucssefuly\")\n",
        "  else :\n",
        "    print(f\"The element {el} is not dount\")"
      ]
    },
    {
      "cell_type": "code",
      "execution_count": 7,
      "id": "d80aa813",
      "metadata": {
        "ExecuteTime": {
          "end_time": "2023-07-23T22:21:37.220121Z",
          "start_time": "2023-07-23T22:21:37.215586Z"
        },
        "id": "d80aa813",
        "colab": {
          "base_uri": "https://localhost:8080/"
        },
        "outputId": "c13bdc4e-ba61-485a-8099-4d01e1a224d3"
      },
      "outputs": [
        {
          "output_type": "stream",
          "name": "stdout",
          "text": [
            "Please Enter The number of element you want to add in your list : 4\n",
            "Enter the element number 1 to the list : 7\n",
            "Enter the element number 2 to the list : 2\n",
            "Enter the element number 3 to the list : 6\n",
            "Enter the element number 4 to the list : 5\n",
            "Your list know contain : [7, 2, 6, 5]\n",
            "Enter the element that you want to remove from your list : 6\n",
            "The element 6 is removed sucssefuly\n"
          ]
        }
      ],
      "source": [
        "num_of_element = int(input(\"Please Enter The number of element you want to add in your list : \"))\n",
        "a = []\n",
        "for i in range(num_of_element):\n",
        "  e = int(input(f\"Enter the element number {i+1} to the list : \"))\n",
        "  a.append(e)\n",
        "print(f\"Your list know contain : {a}\")\n",
        "el = int(input(\"Enter the element that you want to remove from your list : \"))\n",
        "remove_element(a , el)\n"
      ]
    },
    {
      "cell_type": "markdown",
      "id": "f1658f3b",
      "metadata": {
        "ExecuteTime": {
          "end_time": "2023-07-23T22:18:08.230185Z",
          "start_time": "2023-07-23T22:18:08.224220Z"
        },
        "id": "f1658f3b"
      },
      "source": [
        "### 9-Given 4 numbers A, B, C and D. Print the last 2 digits from their Multiplication.\n",
        "### Example :\n",
        "### the Multiplication of 4 numbers is 5 * 7 * 2 * 4 = 280 so the answer will be the last 2 digits which are 80."
      ]
    },
    {
      "cell_type": "code",
      "execution_count": 10,
      "id": "e3acbe03",
      "metadata": {
        "ExecuteTime": {
          "end_time": "2023-07-23T22:26:11.183016Z",
          "start_time": "2023-07-23T22:26:03.981069Z"
        },
        "id": "e3acbe03",
        "colab": {
          "base_uri": "https://localhost:8080/"
        },
        "outputId": "2a405bfd-f6d7-452f-f3dd-0ed6399eed5e"
      },
      "outputs": [
        {
          "output_type": "stream",
          "name": "stdout",
          "text": [
            "Enter the first number : 5\n",
            "Enter the second number : 7\n",
            "Enter the third number : 2\n",
            "Enter the fourth number : 4\n",
            "80\n"
          ]
        }
      ],
      "source": [
        "A = int(input(\"Enter the first number : \"))\n",
        "B = int(input(\"Enter the second number : \"))\n",
        "C = int(input(\"Enter the third number : \"))\n",
        "D = int(input(\"Enter the fourth number : \"))\n",
        "multiplication = str(A*B*C*D)\n",
        "result = multiplication[-2:]\n",
        "print(result)"
      ]
    },
    {
      "cell_type": "markdown",
      "id": "d7ab15bb",
      "metadata": {
        "ExecuteTime": {
          "end_time": "2023-07-23T22:26:14.833712Z",
          "start_time": "2023-07-23T22:26:14.819130Z"
        },
        "id": "d7ab15bb"
      },
      "source": [
        "### 10- Given a number X. Determine if the number is prime or not"
      ]
    },
    {
      "cell_type": "code",
      "execution_count": 11,
      "id": "59b27f0a",
      "metadata": {
        "ExecuteTime": {
          "end_time": "2023-07-23T22:35:25.933766Z",
          "start_time": "2023-07-23T22:35:24.168681Z"
        },
        "id": "59b27f0a"
      },
      "outputs": [],
      "source": [
        "def prime_num(num):\n",
        "  if num <= 1 :\n",
        "    print(f\"The number {num} it is not prime\")\n",
        "  else:\n",
        "    is_prime = True\n",
        "    for i in range(2 , int((num**0.5)+1)):\n",
        "      if num % i == 0:\n",
        "        is_prime = False\n",
        "        break\n",
        "    if is_prime:\n",
        "      print(f\"The number {num} is prime\")\n",
        "    else :\n",
        "      print(f\"The number {num} is not prime\")"
      ]
    },
    {
      "cell_type": "code",
      "execution_count": 14,
      "id": "03f6ff0e",
      "metadata": {
        "id": "03f6ff0e",
        "colab": {
          "base_uri": "https://localhost:8080/"
        },
        "outputId": "17152be9-95f0-47de-841c-99ec2a648b1c"
      },
      "outputs": [
        {
          "output_type": "stream",
          "name": "stdout",
          "text": [
            "Enter the number that you want to check if it prime or not : 6\n",
            "The number 6 is not prime\n"
          ]
        }
      ],
      "source": [
        "number = int(input(\"Enter the number that you want to check if it prime or not : \"))\n",
        "prime_num(number)"
      ]
    },
    {
      "cell_type": "markdown",
      "id": "e1d1dcf9",
      "metadata": {
        "id": "e1d1dcf9"
      },
      "source": [
        "### 11- Given a number N and a list A of N numbers. Determine if the number X exists in array A or not and print its position (0-index)."
      ]
    },
    {
      "cell_type": "code",
      "execution_count": 16,
      "id": "2b002b0e",
      "metadata": {
        "ExecuteTime": {
          "end_time": "2023-07-23T22:53:41.474835Z",
          "start_time": "2023-07-23T22:53:41.458293Z"
        },
        "id": "2b002b0e",
        "colab": {
          "base_uri": "https://localhost:8080/"
        },
        "outputId": "51527388-c400-4fad-8bc3-36ab2767ce24"
      },
      "outputs": [
        {
          "output_type": "stream",
          "name": "stdout",
          "text": [
            "How many numbers do you want this list to contain : 4\n",
            "Enter the number 1 you want to add : 5\n",
            "Enter the number 2 you want to add : 6\n",
            "Enter the number 3 you want to add : 7\n",
            "Enter the number 4 you want to add : 2\n",
            "Enter the number that you want to seaech it in the list : 2\n",
            "The element 2 is found in index 3 \n"
          ]
        }
      ],
      "source": [
        "N = int(input(\"How many numbers do you want this list to contain : \"))\n",
        "A = []\n",
        "\n",
        "for i in range(N):\n",
        "  element = int(input(f\"Enter the number {i+1} you want to add : \"))\n",
        "  A.append(element)\n",
        "\n",
        "X = int(input(\"Enter the number that you want to seaech it in the list : \"))\n",
        "if X in A :\n",
        "  index = A.index(X)\n",
        "  print(f\"The element {X} is found in index {index} \")\n",
        "else :\n",
        "  print(f\"The number {X} is not found in the lis \")\n"
      ]
    },
    {
      "cell_type": "markdown",
      "id": "f2ec854b",
      "metadata": {
        "id": "f2ec854b"
      },
      "source": [
        "### 12- Given a number N and a list A of N numbers. Determine if the array is lucky or not.\n",
        "\n",
        "#### Note: the array is lucky if the frequency (number of occurrence) of the minimum element is odd."
      ]
    },
    {
      "cell_type": "code",
      "execution_count": 17,
      "id": "0c4f7f4b",
      "metadata": {
        "ExecuteTime": {
          "end_time": "2023-07-23T23:02:02.490192Z",
          "start_time": "2023-07-23T23:02:02.476874Z"
        },
        "id": "0c4f7f4b",
        "colab": {
          "base_uri": "https://localhost:8080/"
        },
        "outputId": "94d56777-cbf9-47e1-e706-8ac991447f40"
      },
      "outputs": [
        {
          "output_type": "stream",
          "name": "stdout",
          "text": [
            "How many numbers do you want this list to contain: 4\n",
            "Enter the number 1 you want to add: 6\n",
            "Enter the number 2 you want to add: 4\n",
            "Enter the number 3 you want to add: 9\n",
            "Enter the number 4 you want to add: 7\n",
            "The array is lucky\n"
          ]
        }
      ],
      "source": [
        "N = int(input(\"How many numbers do you want this list to contain: \"))\n",
        "A = []\n",
        "\n",
        "for i in range(N):\n",
        "  element = int(input(f\"Enter the number {i+1} you want to add: \"))\n",
        "  A.append(element)\n",
        "\n",
        "min_val = A[0]\n",
        "for i in range(1, N):\n",
        "  if A[i] < min_val:\n",
        "    min_val = A[i]\n",
        "\n",
        "count = A.count(min_val)\n",
        "if count % 2 == 1:\n",
        "  print(\"The array is lucky\")\n",
        "else:\n",
        "  print(\"The array is not lucky\")\n"
      ]
    },
    {
      "cell_type": "markdown",
      "id": "e1ce1ae5",
      "metadata": {
        "id": "e1ce1ae5"
      },
      "source": [
        "### 13-Given a number N and a list A of N numbers. Print the array after doing the following operations:\n",
        "\n",
        "#### Find minimum number in these numbers.\n",
        "#### Find maximum number in these numbers.\n",
        "##### Swap minimum number with maximum number."
      ]
    },
    {
      "cell_type": "code",
      "execution_count": 18,
      "id": "e0d6e639",
      "metadata": {
        "ExecuteTime": {
          "end_time": "2023-07-23T23:10:04.293733Z",
          "start_time": "2023-07-23T23:10:04.280256Z"
        },
        "id": "e0d6e639",
        "colab": {
          "base_uri": "https://localhost:8080/"
        },
        "outputId": "55a0b0b0-b141-48be-bd4a-5f4f0e37fe27"
      },
      "outputs": [
        {
          "output_type": "stream",
          "name": "stdout",
          "text": [
            "How many numbers do you want this list to contain: 4\n",
            "Enter number 1: 6\n",
            "Enter number 2: 4\n",
            "Enter number 3: 2\n",
            "Enter number 4: 7\n",
            "The array after swapping min and max values:\n",
            "[6, 4, 7, 2]\n"
          ]
        }
      ],
      "source": [
        "N = int(input(\"How many numbers do you want this list to contain: \"))\n",
        "A = []\n",
        "\n",
        "for i in range(N):\n",
        "    element = int(input(f\"Enter number {i+1}: \"))\n",
        "    A.append(element)\n",
        "\n",
        "min_index = A.index(min(A))\n",
        "max_index = A.index(max(A))\n",
        "\n",
        "A[min_index], A[max_index] = A[max_index], A[min_index]\n",
        "\n",
        "print(\"The array after swapping min and max values:\")\n",
        "print(A)\n"
      ]
    },
    {
      "cell_type": "markdown",
      "id": "f35d3427",
      "metadata": {
        "ExecuteTime": {
          "end_time": "2023-07-23T23:20:55.880128Z",
          "start_time": "2023-07-23T23:20:55.861804Z"
        },
        "id": "f35d3427"
      },
      "source": [
        "### 15-Given a number N and an array A of N numbers. Print the numbers after sorting them"
      ]
    },
    {
      "cell_type": "code",
      "execution_count": 19,
      "id": "a6e0edd4",
      "metadata": {
        "ExecuteTime": {
          "end_time": "2023-07-23T23:46:13.340484Z",
          "start_time": "2023-07-23T23:46:13.324468Z"
        },
        "id": "a6e0edd4",
        "colab": {
          "base_uri": "https://localhost:8080/"
        },
        "outputId": "99485068-b8b8-47e3-fa50-95088bb90df5"
      },
      "outputs": [
        {
          "output_type": "stream",
          "name": "stdout",
          "text": [
            "How many numbers do you want this list to contain: 4\n",
            "Enter number 1: 6\n",
            "Enter number 2: 5\n",
            "Enter number 3: 8\n",
            "Enter number 4: 1\n",
            "The array after sorting:\n",
            "[1, 5, 6, 8]\n"
          ]
        }
      ],
      "source": [
        "N = int(input(\"How many numbers do you want this list to contain: \"))\n",
        "A = []\n",
        "\n",
        "for i in range(N):\n",
        "    element = int(input(f\"Enter number {i+1}: \"))\n",
        "    A.append(element)\n",
        "\n",
        "A.sort()\n",
        "print(\"The array after sorting:\")\n",
        "print(A)\n"
      ]
    },
    {
      "cell_type": "markdown",
      "id": "a172f354",
      "metadata": {
        "ExecuteTime": {
          "end_time": "2023-07-23T23:46:15.127981Z",
          "start_time": "2023-07-23T23:46:15.108766Z"
        },
        "id": "a172f354"
      },
      "source": [
        "### 16- Write a Python program to remove spaces from a given string"
      ]
    },
    {
      "cell_type": "code",
      "execution_count": 20,
      "id": "36d3569d",
      "metadata": {
        "ExecuteTime": {
          "end_time": "2023-07-23T23:50:06.443640Z",
          "start_time": "2023-07-23T23:50:01.592919Z"
        },
        "id": "36d3569d",
        "colab": {
          "base_uri": "https://localhost:8080/"
        },
        "outputId": "07124ce7-4c73-4be0-9cb1-6cb2c5505cf9"
      },
      "outputs": [
        {
          "output_type": "stream",
          "name": "stdout",
          "text": [
            "Enter a string: Mohammed Ayoub \n",
            "String without spaces: MohammedAyoub\n"
          ]
        }
      ],
      "source": [
        "string = input(\"Enter a string: \")\n",
        "result = string.replace(\" \", \"\")\n",
        "print(\"String without spaces:\", result)\n"
      ]
    },
    {
      "cell_type": "markdown",
      "id": "a5470d49",
      "metadata": {
        "id": "a5470d49"
      },
      "source": [
        "### 17-write a Python program to swap first and last element of any list."
      ]
    },
    {
      "cell_type": "code",
      "execution_count": 23,
      "id": "9d73887b",
      "metadata": {
        "ExecuteTime": {
          "end_time": "2023-07-23T23:50:59.283429Z",
          "start_time": "2023-07-23T23:50:59.272096Z"
        },
        "id": "9d73887b",
        "colab": {
          "base_uri": "https://localhost:8080/"
        },
        "outputId": "4e630f74-f6c6-489b-b075-2f8b2f7dc18a"
      },
      "outputs": [
        {
          "output_type": "stream",
          "name": "stdout",
          "text": [
            "How many numbers do you want this list to contain: 4\n",
            "Enter number 1: 3\n",
            "Enter number 2: 1\n",
            "Enter number 3: 5\n",
            "Enter number 4: 7\n",
            "The list after swapping first and last elements: [7, 1, 5, 3]\n"
          ]
        }
      ],
      "source": [
        "N = int(input(\"How many numbers do you want this list to contain: \"))\n",
        "A = []\n",
        "\n",
        "for i in range(N):\n",
        "    element = int(input(f\"Enter number {i+1}: \"))\n",
        "    A.append(element)\n",
        "\n",
        "if len(A) > 1:\n",
        "    A[0], A[-1] = A[-1], A[0]\n",
        "\n",
        "print(\"The list after swapping first and last elements:\", A)\n"
      ]
    },
    {
      "cell_type": "markdown",
      "source": [
        "# **Write a Python Program to Find HCF.**\n",
        "## Highest Common Factor(HCF): HCF, or Highest Common Factor, is the largest positive integer that divides two or more numbers without leaving a remainder. Formula: For two numbers a and b, the HCF can be found using the formula:\n",
        "\n",
        "** HCF(𝑎, 𝑏) = GCD(𝑎, 𝑏)**\n",
        "For more than two numbers, you can find the HCF by taking the GCD of pairs of numbers at a time until you reach the last pair.\n",
        "\n",
        "# **Note: GCD stands for Greatest Common Divisor, use function.**\n"
      ],
      "metadata": {
        "id": "iS6JiE4uPbyH"
      },
      "id": "iS6JiE4uPbyH"
    },
    {
      "cell_type": "code",
      "source": [
        "def find_hcf(a, b):\n",
        "    while b != 0:\n",
        "        a, b = b, a % b\n",
        "    return a"
      ],
      "metadata": {
        "id": "9qUfYf0wPnvt"
      },
      "id": "9qUfYf0wPnvt",
      "execution_count": 24,
      "outputs": []
    },
    {
      "cell_type": "code",
      "source": [
        "def find_hcf_of_list(numbers):\n",
        "    hcf = numbers[0]\n",
        "    for num in numbers[1:]:\n",
        "        hcf = find_hcf(hcf, num)\n",
        "    return hcf"
      ],
      "metadata": {
        "id": "dymcV7Z5EcGI"
      },
      "id": "dymcV7Z5EcGI",
      "execution_count": 25,
      "outputs": []
    },
    {
      "cell_type": "code",
      "source": [
        "numbers = list(map(int, input(\"Enter numbers separated by space: \").split()))\n",
        "\n",
        "hcf_result = find_hcf_of_list(numbers)\n",
        "\n",
        "print(f\"The HCF of the given numbers is: {hcf_result}\")\n"
      ],
      "metadata": {
        "id": "z_H0XSJnPeMw",
        "colab": {
          "base_uri": "https://localhost:8080/"
        },
        "outputId": "3069919a-ca01-47a8-ec60-004eec4a1a91"
      },
      "id": "z_H0XSJnPeMw",
      "execution_count": 26,
      "outputs": [
        {
          "output_type": "stream",
          "name": "stdout",
          "text": [
            "Enter numbers separated by space: 5 8 7 3\n",
            "The HCF of the given numbers is: 1\n"
          ]
        }
      ]
    },
    {
      "cell_type": "code",
      "source": [],
      "metadata": {
        "id": "TknGLoLeEg2O"
      },
      "id": "TknGLoLeEg2O",
      "execution_count": null,
      "outputs": []
    }
  ],
  "metadata": {
    "kernelspec": {
      "display_name": "Python 3 (ipykernel)",
      "language": "python",
      "name": "python3"
    },
    "language_info": {
      "codemirror_mode": {
        "name": "ipython",
        "version": 3
      },
      "file_extension": ".py",
      "mimetype": "text/x-python",
      "name": "python",
      "nbconvert_exporter": "python",
      "pygments_lexer": "ipython3",
      "version": "3.9.12"
    },
    "colab": {
      "provenance": [],
      "include_colab_link": true
    }
  },
  "nbformat": 4,
  "nbformat_minor": 5
}