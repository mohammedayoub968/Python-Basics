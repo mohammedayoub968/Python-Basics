{
  "cells": [
    {
      "cell_type": "markdown",
      "metadata": {
        "id": "view-in-github",
        "colab_type": "text"
      },
      "source": [
        "<a href=\"https://colab.research.google.com/github/mohammedayoub968/Ai-journey/blob/main/task4.ipynb\" target=\"_parent\"><img src=\"https://colab.research.google.com/assets/colab-badge.svg\" alt=\"Open In Colab\"/></a>"
      ]
    },
    {
      "cell_type": "markdown",
      "id": "759d04ba",
      "metadata": {
        "id": "759d04ba"
      },
      "source": [
        "**1-Write a Python program to calculate the length of a string using 2 ways"
      ]
    },
    {
      "cell_type": "code",
      "execution_count": null,
      "id": "e434c950",
      "metadata": {
        "id": "e434c950",
        "colab": {
          "base_uri": "https://localhost:8080/"
        },
        "outputId": "34d2edf1-8cda-4e98-a26c-8204b6f627bc"
      },
      "outputs": [
        {
          "output_type": "stream",
          "name": "stdout",
          "text": [
            "Enter the string rhat you want to calculate the length of if Mohammed\n",
            "8\n"
          ]
        }
      ],
      "source": [
        "string1 = input(\"Enter the string rhat you want to calculate the length of if \")\n",
        "count = 0\n",
        "for i in string1 :\n",
        "  count += 1\n",
        "print(count)"
      ]
    },
    {
      "cell_type": "code",
      "execution_count": null,
      "id": "7a2dfa32",
      "metadata": {
        "id": "7a2dfa32",
        "colab": {
          "base_uri": "https://localhost:8080/"
        },
        "outputId": "209c52e0-7baa-4557-c9b6-0043ef2c5c62"
      },
      "outputs": [
        {
          "output_type": "stream",
          "name": "stdout",
          "text": [
            "Enter the string rhat you want to calculate the length of if mohammed\n",
            "8\n"
          ]
        }
      ],
      "source": [
        "string2 = input(\"Enter the string rhat you want to calculate the length of if \")\n",
        "print(len(string2))"
      ]
    },
    {
      "cell_type": "markdown",
      "id": "d7cc9da7",
      "metadata": {
        "id": "d7cc9da7"
      },
      "source": [
        "**2-Write a Python program to get a string made of the first 2 and last 2 characters of a given string. If the string length is less than 2, return the empty string instead (\"##Sample String : 'w3resource'\n",
        "Expected Result : 'w3ce'\n",
        "##Sample String : 'w3'\n",
        "Expected Result : 'w3w3'\n",
        "##Sample String : ' w'\n",
        "Expected Result : Empty String)"
      ]
    },
    {
      "cell_type": "code",
      "execution_count": null,
      "id": "dafa9dd8",
      "metadata": {
        "id": "dafa9dd8",
        "colab": {
          "base_uri": "https://localhost:8080/"
        },
        "outputId": "8c846095-b573-4c5f-ce15-d71583270f76"
      },
      "outputs": [
        {
          "output_type": "stream",
          "name": "stdout",
          "text": [
            "w3ce\n"
          ]
        }
      ],
      "source": [
        "string3 = \"w3resource\"\n",
        "if len(string3) < 2:\n",
        "  print(\"Empty String\")\n",
        "else :\n",
        "  print(string3[:2]+string3[-2:])"
      ]
    },
    {
      "cell_type": "markdown",
      "id": "1534f956",
      "metadata": {
        "id": "1534f956"
      },
      "source": [
        "**3-Write a Python program to add 'ing' at the end of a given string (length should be at least 3). If the given string already ends with 'ing', add 'ly' instead. If the string length of the given string is less than 3, leave it unchanged. (Sample String : 'abc'\n",
        "Expected Result : 'abcing')"
      ]
    },
    {
      "cell_type": "code",
      "execution_count": null,
      "id": "7ff8cec4",
      "metadata": {
        "id": "7ff8cec4",
        "colab": {
          "base_uri": "https://localhost:8080/"
        },
        "outputId": "2f55259c-4f78-4004-d7ae-338bd65fe4dc"
      },
      "outputs": [
        {
          "output_type": "stream",
          "name": "stdout",
          "text": [
            "Enter the string Mohammed\n",
            "Mohammeding\n"
          ]
        }
      ],
      "source": [
        "string4 = input(\"Enter the string \")\n",
        "if string4[-3:] == \"ing\" and len(string4) >= 3:\n",
        "  print(string4 + \"ly\")\n",
        "elif len(string4) >= 3 and string4[-3:] != \"ing\" :\n",
        "  print(string4 + \"ing\")\n",
        "else :\n",
        "  print(string4)"
      ]
    },
    {
      "cell_type": "markdown",
      "id": "1c0a6627",
      "metadata": {
        "id": "1c0a6627"
      },
      "source": [
        "**4-Write a Python function that takes a list of words and return the longest word and the length of the longest one\n",
        "(Longest word: Exercises\n",
        "Length of the longest word: 9)"
      ]
    },
    {
      "cell_type": "code",
      "execution_count": null,
      "id": "397341d9",
      "metadata": {
        "id": "397341d9",
        "colab": {
          "base_uri": "https://localhost:8080/"
        },
        "outputId": "50cfe526-860a-4fec-bcc2-da30a0f9327f"
      },
      "outputs": [
        {
          "output_type": "stream",
          "name": "stdout",
          "text": [
            "Enter the names sperated by ',' : Mohammed Ayoub,Shazily,omer,bashar,baraka\n",
            "The longest word Mohammed Ayoub with length 14\n"
          ]
        }
      ],
      "source": [
        "def words(word_list):\n",
        "  longest = word_list[0]\n",
        "  for word in word_list :\n",
        "    if len(word) > len(longest) :\n",
        "      longest = i\n",
        "    length = len(longest)\n",
        "  print(f\"The longest word {longest} with length {length}\")\n",
        "\n",
        "l = list(input(\"Enter the names sperated by ',' : \").split(\",\"))\n",
        "words(l)"
      ]
    },
    {
      "cell_type": "markdown",
      "id": "53a03a6a",
      "metadata": {
        "id": "53a03a6a"
      },
      "source": [
        "**5-Write a Python program to change a given string to a newly string where the first and last chars have been exchanged using 2 ways (Sample String:abca  Expected Result:ebce)"
      ]
    },
    {
      "cell_type": "code",
      "execution_count": null,
      "id": "fd327d2a",
      "metadata": {
        "id": "fd327d2a"
      },
      "outputs": [],
      "source": [
        "def method1(s) :\n",
        "  if len(s) < 2:\n",
        "    return s\n",
        "  if s[0] == s[1] :\n",
        "    next_char = chr(ord(s[0]) + 1)\n",
        "    s_list = list(s)\n",
        "    s_list[0] = next_char\n",
        "    s_list[1] = next_char\n",
        "  else :\n",
        "    s_list = list(s)\n",
        "    s_list[0] , s_list[1] = s_list[1] , s_list[0]\n",
        "  return \"\".join(s_list)\n",
        "\n",
        "def method2(s) :\n",
        "  if len(s) <2:\n",
        "    return s\n",
        "  if s[0] == s[-1] :\n",
        "    next_char = chr(ord(s[0]) + 1)\n",
        "    return next_char+s[1:-1]+next_char\n",
        "  else :\n",
        "    return s[-1]+s[1:-1]+s[0]\n"
      ]
    },
    {
      "cell_type": "code",
      "execution_count": null,
      "id": "285788b4",
      "metadata": {
        "id": "285788b4",
        "colab": {
          "base_uri": "https://localhost:8080/"
        },
        "outputId": "e717f3ad-d403-4162-ea94-2a69c729cde2"
      },
      "outputs": [
        {
          "output_type": "stream",
          "name": "stdout",
          "text": [
            "Please Enter the string you want to manipulate it : Playing\n",
            "Method one :  lPaying\n",
            "Method two :  glayinP\n"
          ]
        }
      ],
      "source": [
        "String = input(\"Please Enter the string you want to manipulate it : \")\n",
        "print(\"Method one : \" , method1(String))\n",
        "print(\"Method two : \" , method2(String))"
      ]
    },
    {
      "cell_type": "markdown",
      "id": "25f89808",
      "metadata": {
        "id": "25f89808"
      },
      "source": [
        "**6-Write a Python program to remove characters that have odd index values in a given string (Sample String:abca Expected Result:ac)"
      ]
    },
    {
      "cell_type": "code",
      "execution_count": null,
      "id": "05959bd7",
      "metadata": {
        "id": "05959bd7",
        "colab": {
          "base_uri": "https://localhost:8080/"
        },
        "outputId": "3ca57bf9-cd63-4306-b5ab-012f3c0dbcdf"
      },
      "outputs": [
        {
          "output_type": "stream",
          "name": "stdout",
          "text": [
            "Enter String: abcd\n",
            "The string after removing characters at odd indices: ac\n"
          ]
        }
      ],
      "source": [
        "string = input(\"Enter String: \")\n",
        "word_list = []\n",
        "\n",
        "if len(string) == 1:\n",
        "    print(\"There are no letters at odd indices.\")\n",
        "else:\n",
        "    for i in range(len(string)):\n",
        "        if i % 2 != 0:\n",
        "            continue\n",
        "        word_list.append(string[i])\n",
        "    output = \"\".join(word_list)\n",
        "    print(f\"The string after removing characters at odd indices: {output}\")"
      ]
    },
    {
      "cell_type": "markdown",
      "id": "eb16e898",
      "metadata": {
        "id": "eb16e898"
      },
      "source": [
        "**7-Write a Python program to count the occurrences of each word in a given sentence (Sample String:amr and ahmed are frindes but amr is the tallest Expected Result:2)"
      ]
    },
    {
      "cell_type": "code",
      "execution_count": null,
      "id": "01ce6cf5",
      "metadata": {
        "id": "01ce6cf5",
        "colab": {
          "base_uri": "https://localhost:8080/"
        },
        "outputId": "01678175-1e5a-49a1-b396-25a2660d713a"
      },
      "outputs": [
        {
          "output_type": "stream",
          "name": "stdout",
          "text": [
            "Enter the sentence: amr and ahmed are frindes but amr is the tallest\n",
            "amr: 2\n",
            "and: 1\n",
            "ahmed: 1\n",
            "are: 1\n",
            "frindes: 1\n",
            "but: 1\n",
            "is: 1\n",
            "the: 1\n",
            "tallest: 1\n"
          ]
        }
      ],
      "source": [
        "sentence = input(\"Enter the sentence: \").split()\n",
        "visited = []\n",
        "\n",
        "for i in range(len(sentence)):\n",
        "    if sentence[i] in visited:\n",
        "        continue\n",
        "    count = 1\n",
        "    for j in range(i + 1, len(sentence)):\n",
        "        if sentence[i] == sentence[j]:\n",
        "            count += 1\n",
        "    print(f\"{sentence[i]}: {count}\")\n",
        "    visited.append(sentence[i])\n"
      ]
    },
    {
      "cell_type": "markdown",
      "id": "4e8125f1",
      "metadata": {
        "id": "4e8125f1"
      },
      "source": [
        "**8-Write a Python script that takes input from the user and displays that input back in upper and lower cases"
      ]
    },
    {
      "cell_type": "code",
      "execution_count": null,
      "id": "66c8f778",
      "metadata": {
        "id": "66c8f778",
        "colab": {
          "base_uri": "https://localhost:8080/"
        },
        "outputId": "02964c1c-b8f7-4795-ee87-bada750c5b4c"
      },
      "outputs": [
        {
          "output_type": "stream",
          "name": "stdout",
          "text": [
            "Enter sentence : KCMLKMB\n",
            "The sentence in lowe case is : kcmlkmb\n"
          ]
        }
      ],
      "source": [
        "script = input(\"Enter sentence : \")\n",
        "print(f\"The sentence in lowe case is : {script.lower()}\")\n",
        "print(f\"The sentence in Upper case is : {script.upper()}\")"
      ]
    },
    {
      "cell_type": "markdown",
      "id": "fcd68aa1",
      "metadata": {
        "id": "fcd68aa1"
      },
      "source": [
        "**9-Write a Python function to reverse a string if its length is a multiple of 4"
      ]
    },
    {
      "cell_type": "code",
      "execution_count": null,
      "id": "0671a931",
      "metadata": {
        "id": "0671a931"
      },
      "outputs": [],
      "source": [
        "s = input(\"Enter the string \")\n",
        "if len(s) % 4 ==0 :\n",
        "  print(s[::-1])\n",
        "else :\n",
        "  print(s)"
      ]
    },
    {
      "cell_type": "markdown",
      "id": "b577c68d",
      "metadata": {
        "id": "b577c68d"
      },
      "source": [
        "**10- Write a Python program to remove a newline in Python"
      ]
    },
    {
      "cell_type": "code",
      "execution_count": null,
      "id": "e0c6525a",
      "metadata": {
        "id": "e0c6525a",
        "colab": {
          "base_uri": "https://localhost:8080/"
        },
        "outputId": "d69bab87-3467-4c1b-b331-e07cfc7beee3"
      },
      "outputs": [
        {
          "output_type": "stream",
          "name": "stdout",
          "text": [
            "The statment after remove newline char  PythonWithGFG\n"
          ]
        }
      ],
      "source": [
        "user = \"Python\\nWith\\nGFG\"\n",
        "clear_statment = user.replace(\"\\n\" , \"\")\n",
        "print(\"The statment after remove newline char \",clear_statment)"
      ]
    },
    {
      "cell_type": "markdown",
      "id": "80db5ae0",
      "metadata": {
        "id": "80db5ae0"
      },
      "source": [
        "**11-Write a Python program to check\n",
        "\n",
        "---\n",
        "\n",
        "whether a string starts with specified characters"
      ]
    },
    {
      "cell_type": "code",
      "execution_count": null,
      "id": "0cc4e03e",
      "metadata": {
        "id": "0cc4e03e",
        "colab": {
          "base_uri": "https://localhost:8080/"
        },
        "outputId": "b95b87ec-7475-4d5b-9b3b-48929e310720"
      },
      "outputs": [
        {
          "output_type": "stream",
          "name": "stdout",
          "text": [
            "Enter String  : Mohammed Ayoub \n",
            "Enter the character you want to check it : M\n",
            "Yes\n"
          ]
        }
      ],
      "source": [
        "string = input(\"Enter String  : \").lower()\n",
        "char = input(\"Enter the character you want to check it : \").lower()\n",
        "if string.startswith(char):\n",
        "  print(\"Yes\")\n",
        "else :\n",
        "  print(\"NO\")\n"
      ]
    },
    {
      "cell_type": "markdown",
      "id": "593a68db",
      "metadata": {
        "id": "593a68db"
      },
      "source": [
        "**12- Write a Python program to add prefix text to all of the lines in a string"
      ]
    },
    {
      "cell_type": "code",
      "source": [
        "def add_prefix_to_line(text , prefex):\n",
        "  lines = text.splitlines()\n",
        "  return \"\\n\".join(prefex + \" \" + line for line in lines)\n"
      ],
      "metadata": {
        "id": "ROaJmUG8T33J"
      },
      "id": "ROaJmUG8T33J",
      "execution_count": null,
      "outputs": []
    },
    {
      "cell_type": "code",
      "execution_count": null,
      "id": "d2e46ada",
      "metadata": {
        "id": "d2e46ada",
        "colab": {
          "base_uri": "https://localhost:8080/"
        },
        "outputId": "575043f6-a9aa-481d-9b78-df6ac71249a9"
      },
      "outputs": [
        {
          "output_type": "stream",
          "name": "stdout",
          "text": [
            "Enter your text (press Enter on an Empty line to finish)\n",
            "Mohammed \n",
            "Omer \n",
            "\n",
            "Enter your prefix : >>\n",
            ">> Mohammed \n",
            ">> Omer \n"
          ]
        }
      ],
      "source": [
        "print(\"Enter your text (press Enter on an Empty line to finish)\")\n",
        "user_lines = []\n",
        "while True :\n",
        "  line = input()\n",
        "  if line == \"\" :\n",
        "    break\n",
        "  user_lines.append(line)\n",
        "\n",
        "user_text = \"\\n\".join(user_lines)\n",
        "prefix = input(\"Enter your prefix : \")\n",
        "\n",
        "result = add_prefix_to_line(user_text , prefix)\n",
        "print(result)\n"
      ]
    },
    {
      "cell_type": "markdown",
      "id": "86fa1543",
      "metadata": {
        "id": "86fa1543"
      },
      "source": [
        "**13-Write a Python program to print the following numbers up to 2 decimal places"
      ]
    },
    {
      "cell_type": "code",
      "execution_count": null,
      "id": "cd4a9d89",
      "metadata": {
        "id": "cd4a9d89",
        "colab": {
          "base_uri": "https://localhost:8080/"
        },
        "outputId": "0663c9ac-931f-4222-d0d1-fc76a2fb4f28"
      },
      "outputs": [
        {
          "output_type": "stream",
          "name": "stdout",
          "text": [
            "Enter the number you want to round to two decimal places: 12.3336565\n",
            "The number after rounding is: 12.33\n"
          ]
        }
      ],
      "source": [
        "number = float(input(\"Enter the number you want to round to two decimal places: \"))\n",
        "rounded_number = round(number, 2)\n",
        "print(f\"The number after rounding is: {rounded_number:.2f}\")\n"
      ]
    },
    {
      "cell_type": "markdown",
      "id": "452c0ab0",
      "metadata": {
        "id": "452c0ab0"
      },
      "source": [
        "**14-Write a Python program to print the following numbers up to 2 decimal places with a sign"
      ]
    },
    {
      "cell_type": "code",
      "execution_count": null,
      "id": "73e82479",
      "metadata": {
        "id": "73e82479",
        "colab": {
          "base_uri": "https://localhost:8080/"
        },
        "outputId": "38aaa681-352d-4cf5-92df-93009fbf3678"
      },
      "outputs": [
        {
          "output_type": "stream",
          "name": "stdout",
          "text": [
            "Enter the number you want to round to two decimal places: 1554.3255\n",
            "The number after rounding is: +1554.33\n"
          ]
        }
      ],
      "source": [
        "number = float(input(\"Enter the number you want to round to two decimal places: \"))\n",
        "rounded_number = round(number, 2)\n",
        "if rounded_number > 0 :\n",
        "  print(f\"The number after rounding is: +{rounded_number:.2f}\")\n",
        "else :\n",
        "  print(f\"The number after rounding is: -{rounded_number:.2f}\")\n"
      ]
    },
    {
      "cell_type": "markdown",
      "id": "32b1811a",
      "metadata": {
        "id": "32b1811a"
      },
      "source": [
        "**15-Write a Python program to display a number with a comma separator"
      ]
    },
    {
      "cell_type": "code",
      "execution_count": null,
      "id": "f30fc0b6",
      "metadata": {
        "id": "f30fc0b6",
        "colab": {
          "base_uri": "https://localhost:8080/"
        },
        "outputId": "b810397d-ffc5-4ce6-bd57-2368f98e82dd"
      },
      "outputs": [
        {
          "output_type": "stream",
          "name": "stdout",
          "text": [
            "Enter The nummber 1126737640\n",
            " The Number after comma separator 1,126,737,640.0\n"
          ]
        }
      ],
      "source": [
        "number = float(input(\"Enter The nummber \"))\n",
        "print(f\" The Number after comma separator {number:,}\")"
      ]
    },
    {
      "cell_type": "markdown",
      "id": "0477f487",
      "metadata": {
        "id": "0477f487"
      },
      "source": [
        "**16-Write a Python program to reverse a string using 2 ways"
      ]
    },
    {
      "cell_type": "code",
      "execution_count": null,
      "id": "aa8beec8",
      "metadata": {
        "id": "aa8beec8",
        "colab": {
          "base_uri": "https://localhost:8080/"
        },
        "outputId": "db97fb5f-90dc-4e7d-9d1b-90fc0e31e5b1"
      },
      "outputs": [
        {
          "output_type": "stream",
          "name": "stdout",
          "text": [
            "Enter string Mohammed\n",
            "The reverse using first way : demmahoM\n",
            "The reverse using first way : demmahoM\n"
          ]
        }
      ],
      "source": [
        "def first_way(word) :\n",
        "  return word[::-1]\n",
        "\n",
        "def second_way(word) :\n",
        "  r = reversed(word)\n",
        "  return ''.join(r)\n",
        "\n",
        "word = input(\"Enter string \")\n",
        "\n",
        "method1 = first_way(word)\n",
        "method2 = second_way(word)\n",
        "\n",
        "print(f\"The reverse using first way : {method1}\")\n",
        "print(f\"The reverse using first way : {method2}\")\n",
        "\n"
      ]
    },
    {
      "cell_type": "markdown",
      "id": "5afc3166",
      "metadata": {
        "id": "5afc3166"
      },
      "source": [
        " **17-Write a Python program to count repeated characters in a string (hint:use dictionary)"
      ]
    },
    {
      "cell_type": "code",
      "execution_count": null,
      "id": "515a469c",
      "metadata": {
        "id": "515a469c",
        "colab": {
          "base_uri": "https://localhost:8080/"
        },
        "outputId": "b1ac7c0e-5748-4f34-a3f8-c08ab4b320c0"
      },
      "outputs": [
        {
          "output_type": "stream",
          "name": "stdout",
          "text": [
            "Enter String : MohammedAyoub\n",
            "The letter 'm' is repeated 3 times.\n",
            "The letter 'o' is repeated 2 times.\n",
            "The letter 'a' is repeated 2 times.\n"
          ]
        }
      ],
      "source": [
        "string = input(\"Enter String : \").lower()\n",
        "dic = {}\n",
        "\n",
        "for letter in string :\n",
        "  if letter in dic :\n",
        "    dic[letter] +=1\n",
        "  else :\n",
        "    dic[letter] = 1\n",
        "\n",
        "for letters , count in dic.items() :\n",
        "  if count >1 :\n",
        "    print(f\"The letter '{letters}' is repeated {count} times.\")\n"
      ]
    },
    {
      "cell_type": "markdown",
      "id": "ae14e4e5",
      "metadata": {
        "id": "ae14e4e5"
      },
      "source": [
        "**18-Write a Python program to find the first non-repeating character in a given string"
      ]
    },
    {
      "cell_type": "code",
      "execution_count": 1,
      "id": "d73778e5",
      "metadata": {
        "id": "d73778e5",
        "colab": {
          "base_uri": "https://localhost:8080/"
        },
        "outputId": "beb107b7-54b7-4bee-9e11-71c1e544facd"
      },
      "outputs": [
        {
          "output_type": "stream",
          "name": "stdout",
          "text": [
            "Enter String : Mohammedayoub\n",
            "The letter 'h' is repeated 1 times.\n",
            "The letter 'e' is repeated 1 times.\n",
            "The letter 'd' is repeated 1 times.\n",
            "The letter 'y' is repeated 1 times.\n",
            "The letter 'u' is repeated 1 times.\n",
            "The letter 'b' is repeated 1 times.\n"
          ]
        }
      ],
      "source": [
        "string = input(\"Enter String : \").lower()\n",
        "dic = {}\n",
        "\n",
        "for letter in string :\n",
        "  if letter in dic :\n",
        "    dic[letter] +=1\n",
        "  else :\n",
        "    dic[letter] = 1\n",
        "\n",
        "for letters , count in dic.items() :\n",
        "  if count == 1 :\n",
        "    print(f\"The letter '{letters}' is repeated {count} times.\")\n"
      ]
    },
    {
      "cell_type": "markdown",
      "id": "3adf5669",
      "metadata": {
        "id": "3adf5669"
      },
      "source": [
        "**19-Write a Python program to remove spaces from a given string"
      ]
    },
    {
      "cell_type": "code",
      "execution_count": 1,
      "id": "b4f22602",
      "metadata": {
        "id": "b4f22602",
        "colab": {
          "base_uri": "https://localhost:8080/"
        },
        "outputId": "415c4fff-0995-4da3-95e3-033885cdbf64"
      },
      "outputs": [
        {
          "output_type": "stream",
          "name": "stdout",
          "text": [
            "Enter StringMohammed Ayoub\n",
            "your string without space is :  MohammedAyoub\n"
          ]
        }
      ],
      "source": [
        "  string = input(\"Enter String\")\n",
        "  string_without_space = string.replace(\" \" , \"\")\n",
        "  print(\"your string without space is : \" , string_without_space)"
      ]
    },
    {
      "cell_type": "markdown",
      "id": "734de60c",
      "metadata": {
        "id": "734de60c"
      },
      "source": [
        "**20-Write a Python program to count the number of non-empty substrings of a given string"
      ]
    },
    {
      "cell_type": "code",
      "execution_count": 2,
      "id": "ef3f2274",
      "metadata": {
        "id": "ef3f2274",
        "colab": {
          "base_uri": "https://localhost:8080/"
        },
        "outputId": "10698c50-5db7-4541-c845-dea2bea336a7"
      },
      "outputs": [
        {
          "output_type": "stream",
          "name": "stdout",
          "text": [
            "Enter stringabc\n",
            " the number of non-empty substrings : 6\n"
          ]
        }
      ],
      "source": [
        "string = input(\"Enter string\")\n",
        "length  = len(string)\n",
        "non_substring = (length * (length+1) ) // 2\n",
        "print(f\" the number of non-empty substrings : {non_substring}\")"
      ]
    },
    {
      "cell_type": "markdown",
      "id": "509998e2",
      "metadata": {
        "id": "509998e2"
      },
      "source": [
        "**21-write a Python program to swap first and last element of any list."
      ]
    },
    {
      "cell_type": "code",
      "execution_count": 6,
      "id": "68692d7f",
      "metadata": {
        "id": "68692d7f",
        "colab": {
          "base_uri": "https://localhost:8080/"
        },
        "outputId": "f717c141-a0ac-4d8d-ffb0-225b1eafd127"
      },
      "outputs": [
        {
          "output_type": "stream",
          "name": "stdout",
          "text": [
            "Enter element you want to add it the list sperated by space : M O H A M M E D\n",
            "The list before swap the first and last indexes : ['M', 'O', 'H', 'A', 'M', 'M', 'E', 'D']\n",
            "The list before swap the first and last indexes : ['D', 'O', 'H', 'A', 'M', 'M', 'E', 'M']\n"
          ]
        }
      ],
      "source": [
        "lis = input(\"Enter element you want to add it the list sperated by space : \").split()\n",
        "print(f\"The list before swap the first and last indexes : {lis}\")\n",
        "lis[0] , lis[-1] = lis[-1] , lis[0]\n",
        "print(f\"The list before swap the first and last indexes : {lis}\")"
      ]
    },
    {
      "cell_type": "markdown",
      "id": "959e0837",
      "metadata": {
        "id": "959e0837"
      },
      "source": [
        "**22-Given a list in Python and provided the positions of the elements, write a program to swap the two elements in the list. (Input : List = [23, 65, 19, 90], pos1 = 1, pos2 = 3\n",
        "Output : [19, 65, 23, 90])"
      ]
    },
    {
      "cell_type": "code",
      "execution_count": 9,
      "id": "225d8c6d",
      "metadata": {
        "id": "225d8c6d",
        "colab": {
          "base_uri": "https://localhost:8080/"
        },
        "outputId": "f38be4b2-d132-40ff-bf20-1dc46d9398f5"
      },
      "outputs": [
        {
          "output_type": "stream",
          "name": "stdout",
          "text": [
            "Enter the first position : 2\n",
            "Enter the second position : 3\n",
            "The list after swap according to the postions :  [23, 19, 65, 90]\n"
          ]
        }
      ],
      "source": [
        "lis = [23 , 65 , 19 , 90]\n",
        "pos1 = int(input(\"Enter the first position : \"))\n",
        "pos2 = int(input(\"Enter the second position : \"))\n",
        "lis[pos1 - 1] , lis[pos2 - 1] = lis[pos2- 1] , lis[pos1 - 1]\n",
        "print(\"The list after swap according to the postions : \" , lis)"
      ]
    },
    {
      "cell_type": "markdown",
      "id": "66fc6682",
      "metadata": {
        "id": "66fc6682"
      },
      "source": [
        "**23- search for the all ways to know the length of the list"
      ]
    },
    {
      "cell_type": "markdown",
      "source": [
        "1.using len() function"
      ],
      "metadata": {
        "id": "J3_3SKZlglRQ"
      },
      "id": "J3_3SKZlglRQ"
    },
    {
      "cell_type": "code",
      "source": [
        "my_list = [10, 20, 30, 40, 50]\n",
        "size = len(my_list)\n",
        "print(\"Size of the list \", size)"
      ],
      "metadata": {
        "colab": {
          "base_uri": "https://localhost:8080/"
        },
        "id": "bkhxXgdJf0Od",
        "outputId": "27738e80-9122-4ecd-9666-f75e87d479f8"
      },
      "id": "bkhxXgdJf0Od",
      "execution_count": 11,
      "outputs": [
        {
          "output_type": "stream",
          "name": "stdout",
          "text": [
            "Size of the list  5\n"
          ]
        }
      ]
    },
    {
      "cell_type": "markdown",
      "source": [
        "2. Using a for Loop"
      ],
      "metadata": {
        "id": "Rp5c4Nllgxg0"
      },
      "id": "Rp5c4Nllgxg0"
    },
    {
      "cell_type": "code",
      "source": [
        "my_list = [10, 20, 30, 40, 50]\n",
        "size = 0\n",
        "for counter in my_list:\n",
        "  size += 1\n",
        "print(\"Size of the list : \", size)\n"
      ],
      "metadata": {
        "colab": {
          "base_uri": "https://localhost:8080/"
        },
        "id": "LXeLkB1zgw9g",
        "outputId": "875698a9-023c-4413-f3c1-5c0418b7a468"
      },
      "id": "LXeLkB1zgw9g",
      "execution_count": 12,
      "outputs": [
        {
          "output_type": "stream",
          "name": "stdout",
          "text": [
            "Size of the list :  5\n"
          ]
        }
      ]
    },
    {
      "cell_type": "markdown",
      "source": [
        "3. Using List Comprehension"
      ],
      "metadata": {
        "id": "eV30TTnrhVW9"
      },
      "id": "eV30TTnrhVW9"
    },
    {
      "cell_type": "code",
      "source": [
        "my_list = [10, 20, 30, 40, 50]\n",
        "size = sum([1 for counter in my_list])\n",
        "print(\"Size of the list : \", size)"
      ],
      "metadata": {
        "colab": {
          "base_uri": "https://localhost:8080/"
        },
        "id": "rOVwhp8ChhUL",
        "outputId": "d9909e9e-5ab2-43a4-fce8-5946d24f1136"
      },
      "id": "rOVwhp8ChhUL",
      "execution_count": 13,
      "outputs": [
        {
          "output_type": "stream",
          "name": "stdout",
          "text": [
            "Size of the list :  5\n"
          ]
        }
      ]
    },
    {
      "cell_type": "markdown",
      "source": [
        "4. Using reduce()"
      ],
      "metadata": {
        "id": "R9K3nZRpiRdC"
      },
      "id": "R9K3nZRpiRdC"
    },
    {
      "cell_type": "code",
      "source": [
        "from functools import reduce\n",
        "\n",
        "my_list = [10, 20, 30, 40, 50]\n",
        "size = reduce(lambda acc, _: acc + 1, my_list, 0)\n",
        "print(\"Size using reduce():\", size)\n"
      ],
      "metadata": {
        "colab": {
          "base_uri": "https://localhost:8080/"
        },
        "id": "Nw0S8sK8iWL6",
        "outputId": "1977ea71-ecaa-49c3-c832-e56e3b7292ca"
      },
      "id": "Nw0S8sK8iWL6",
      "execution_count": 14,
      "outputs": [
        {
          "output_type": "stream",
          "name": "stdout",
          "text": [
            "Size using reduce(): 5\n"
          ]
        }
      ]
    },
    {
      "cell_type": "markdown",
      "source": [
        "5. Using iter() and next()"
      ],
      "metadata": {
        "id": "hf3g-HRAi-3G"
      },
      "id": "hf3g-HRAi-3G"
    },
    {
      "cell_type": "code",
      "source": [
        "my_list = [10, 20, 30, 40, 50]\n",
        "size = 0\n",
        "iterator = iter(my_list)\n",
        "while True:\n",
        "    try:\n",
        "        next(iterator)\n",
        "        size += 1\n",
        "    except StopIteration:\n",
        "        break\n",
        "print(\"Size using iter() and next():\", size)\n"
      ],
      "metadata": {
        "colab": {
          "base_uri": "https://localhost:8080/"
        },
        "id": "tcgvskXQjDU2",
        "outputId": "b4c1c822-1986-4041-8ef2-79270f73e2f1"
      },
      "id": "tcgvskXQjDU2",
      "execution_count": 15,
      "outputs": [
        {
          "output_type": "stream",
          "name": "stdout",
          "text": [
            "Size using iter() and next(): 5\n"
          ]
        }
      ]
    },
    {
      "cell_type": "markdown",
      "source": [
        "6. Using enumerate()"
      ],
      "metadata": {
        "id": "hKKIn2YPjI--"
      },
      "id": "hKKIn2YPjI--"
    },
    {
      "cell_type": "code",
      "source": [
        "my_list = [10, 20, 30, 40, 50]\n",
        "size = 0\n",
        "for index, _ in enumerate(my_list, start=1):\n",
        "    size = index\n",
        "print(\"Size using enumerate():\", size)\n"
      ],
      "metadata": {
        "colab": {
          "base_uri": "https://localhost:8080/"
        },
        "id": "zVAc4WgEjTe8",
        "outputId": "b0e817e7-4df6-4459-dd28-88a30764773b"
      },
      "id": "zVAc4WgEjTe8",
      "execution_count": 16,
      "outputs": [
        {
          "output_type": "stream",
          "name": "stdout",
          "text": [
            "Size using enumerate(): 5\n"
          ]
        }
      ]
    },
    {
      "cell_type": "markdown",
      "source": [
        "**24-write a Python code to find the Maximum number of list of numbers."
      ],
      "metadata": {
        "id": "SjetBzNqiMrX"
      },
      "id": "SjetBzNqiMrX"
    },
    {
      "cell_type": "code",
      "execution_count": 19,
      "id": "63ff8b43",
      "metadata": {
        "id": "63ff8b43",
        "colab": {
          "base_uri": "https://localhost:8080/"
        },
        "outputId": "840cbef4-bc95-427a-9aab-d7eb4dde5022"
      },
      "outputs": [
        {
          "output_type": "stream",
          "name": "stdout",
          "text": [
            "The maximun :  60\n"
          ]
        }
      ],
      "source": [
        "my_list = [10, 20, 60, 40, 50]\n",
        "max = my_list[0]\n",
        "for i in range(1 , len(my_list)):\n",
        "  if my_list[i] >= max :\n",
        "    max = my_list[i]\n",
        "print(\"The maximun : \" , max)"
      ]
    },
    {
      "cell_type": "markdown",
      "source": [
        "**25-write a Python code to find the Minimum number of list of numbers."
      ],
      "metadata": {
        "id": "vShVqeHBkgpJ"
      },
      "id": "vShVqeHBkgpJ"
    },
    {
      "cell_type": "code",
      "execution_count": 20,
      "id": "1a89b9d3",
      "metadata": {
        "id": "1a89b9d3",
        "colab": {
          "base_uri": "https://localhost:8080/"
        },
        "outputId": "8405ce09-0a7d-47eb-d1c9-95fca2a6733f"
      },
      "outputs": [
        {
          "output_type": "stream",
          "name": "stdout",
          "text": [
            "The maximun :  10\n"
          ]
        }
      ],
      "source": [
        "my_list = [10, 20, 60, 40, 50]\n",
        "max = my_list[0]\n",
        "for i in range(1 , len(my_list)):\n",
        "  if my_list[i] <= max :\n",
        "    max = my_list[i]\n",
        "print(\"The maximun : \" , max)"
      ]
    },
    {
      "cell_type": "markdown",
      "id": "96822d96",
      "metadata": {
        "id": "96822d96"
      },
      "source": [
        "**26-search for if an elem is existing in list"
      ]
    },
    {
      "cell_type": "code",
      "execution_count": 22,
      "id": "51ca5c9a",
      "metadata": {
        "id": "51ca5c9a",
        "colab": {
          "base_uri": "https://localhost:8080/"
        },
        "outputId": "8f4d5ffd-e523-4010-8717-6dc8ab3f60b1"
      },
      "outputs": [
        {
          "output_type": "stream",
          "name": "stdout",
          "text": [
            "Enter the element you want to search it : 10\n",
            "Yes the element is found \n"
          ]
        }
      ],
      "source": [
        "my_list = [10, 20, 60, 40, 50]\n",
        "element = int(input(\"Enter the element you want to search it : \"))\n",
        "if element in my_list :\n",
        "  print(\"Yes the element is found \")\n",
        "else :\n",
        "  print(\"No the element is not found \")"
      ]
    },
    {
      "cell_type": "markdown",
      "id": "d9557da7",
      "metadata": {
        "id": "d9557da7"
      },
      "source": [
        "**27- clear python list using different ways"
      ]
    },
    {
      "cell_type": "code",
      "execution_count": 27,
      "id": "b69858a3",
      "metadata": {
        "id": "b69858a3",
        "colab": {
          "base_uri": "https://localhost:8080/"
        },
        "outputId": "e00920c4-42b9-4d3c-c997-221e25bd498b"
      },
      "outputs": [
        {
          "output_type": "stream",
          "name": "stdout",
          "text": [
            "the result of first way :  []\n",
            "the result of second way :  []\n"
          ]
        }
      ],
      "source": [
        "def first_way(my_list):\n",
        "  c = my_list\n",
        "  c.clear()\n",
        "  return c\n",
        "\n",
        "def second_way(my_list):\n",
        "  while my_list :\n",
        "    my_list.pop()\n",
        "  return my_list\n",
        "\n",
        "my_list = [10, 20, 60, 40, 50]\n",
        "way1 = first_way(my_list)\n",
        "way2 = second_way(my_list)\n",
        "print(\"the result of first way : \" , way1)\n",
        "print(\"the result of second way : \" , way2)\n"
      ]
    },
    {
      "cell_type": "markdown",
      "id": "52160e88",
      "metadata": {
        "id": "52160e88"
      },
      "source": [
        "**28-remove duplicated elements from a list"
      ]
    },
    {
      "cell_type": "code",
      "execution_count": 32,
      "id": "5e362228",
      "metadata": {
        "id": "5e362228",
        "colab": {
          "base_uri": "https://localhost:8080/"
        },
        "outputId": "3669462e-6c84-4453-a6a9-387901e9a47e"
      },
      "outputs": [
        {
          "output_type": "stream",
          "name": "stdout",
          "text": [
            "[10, 20, 60, 40, 50]\n"
          ]
        }
      ],
      "source": [
        "my_list = [10, 20, 60, 40, 50, 50]\n",
        "new_list = []\n",
        "\n",
        "for item in my_list:\n",
        "    if item not in new_list:\n",
        "        new_list.append(item)\n",
        "\n",
        "print(new_list)\n"
      ]
    },
    {
      "cell_type": "markdown",
      "id": "282337f7",
      "metadata": {
        "id": "282337f7"
      },
      "source": [
        "**29-Given list values and keys list, convert these values to key value pairs in form of list of dictionaries. (Input : test_list = [“Gfg”, 3, “is”, 8], key_list = [“name”, “id”]\n",
        "Output : [{‘name’: ‘Gfg’, ‘id’: 3}, {‘name’: ‘is’, ‘id’: 8}])"
      ]
    },
    {
      "cell_type": "code",
      "execution_count": 36,
      "id": "4d4e2d28",
      "metadata": {
        "id": "4d4e2d28",
        "colab": {
          "base_uri": "https://localhost:8080/"
        },
        "outputId": "2bcdf6cc-55de-4800-8047-8a35aa644969"
      },
      "outputs": [
        {
          "output_type": "stream",
          "name": "stdout",
          "text": [
            "[{'name': 'is', 'id': 8}, {'name': 'is', 'id': 8}]\n"
          ]
        }
      ],
      "source": [
        "test_list = [\"Gfg\", 3, \"is\", 8]\n",
        "key_list = [\"name\" , \"id\"]\n",
        "new_list = []\n",
        "dic = {}\n",
        "i = 0\n",
        "while test_list and i < len(test_list):\n",
        "  dic[key_list[0]] = test_list[i]\n",
        "  dic[key_list[1]] = test_list[i+1]\n",
        "  new_list.append(dic)\n",
        "  i +=2\n",
        "print(new_list)\n"
      ]
    },
    {
      "cell_type": "markdown",
      "id": "c26b6e9f",
      "metadata": {
        "id": "c26b6e9f"
      },
      "source": [
        "**30-write a python program to count unique values inside a list using different ways"
      ]
    },
    {
      "cell_type": "code",
      "execution_count": 43,
      "id": "72132667",
      "metadata": {
        "id": "72132667",
        "colab": {
          "base_uri": "https://localhost:8080/"
        },
        "outputId": "09cbc064-d9c9-4d0a-8fb7-1f571b30de6f"
      },
      "outputs": [
        {
          "output_type": "stream",
          "name": "stdout",
          "text": [
            "5\n"
          ]
        }
      ],
      "source": [
        "my_list = [10, 20, 60, 40, 50, 50]\n",
        "new_list = []\n",
        "\n",
        "for item in my_list:\n",
        "    if item not in new_list:\n",
        "        new_list.append(item)\n",
        "\n",
        "print(len(new_list))\n"
      ]
    },
    {
      "cell_type": "markdown",
      "id": "fed6677c",
      "metadata": {
        "id": "fed6677c"
      },
      "source": [
        "**31-write a python program Extract all elements with Frequency greater than K (Input : test_list = [4, 6, 4, 3, 3, 4, 3, 4, 3, 8], K = 3\n",
        "Output : [4, 3] )"
      ]
    },
    {
      "cell_type": "code",
      "execution_count": 47,
      "id": "d81f3f9d",
      "metadata": {
        "id": "d81f3f9d",
        "colab": {
          "base_uri": "https://localhost:8080/"
        },
        "outputId": "ef50045c-6e7e-477f-9b7d-30a80daffb27"
      },
      "outputs": [
        {
          "output_type": "stream",
          "name": "stdout",
          "text": [
            "Enter the frequency : 3\n",
            "[4, 3]\n"
          ]
        }
      ],
      "source": [
        "my_list = [4, 6, 4, 3, 3, 4, 3, 4, 3, 8]\n",
        "k = int(input(\"Enter the frequency : \"))\n",
        "new_list = []\n",
        "count = 0\n",
        "for item in my_list :\n",
        "  if my_list.count(item) > k and item not in new_list:\n",
        "    new_list.append(item)\n",
        "print(new_list)"
      ]
    },
    {
      "cell_type": "markdown",
      "id": "caca5224",
      "metadata": {
        "id": "caca5224"
      },
      "source": [
        "**32-write a python program to find the Strongest Neighbour (Input: 1 2 2 3 4 5\n",
        "Output: 2 2 3 4 5)"
      ]
    },
    {
      "cell_type": "code",
      "execution_count": 60,
      "id": "39fbd9b2",
      "metadata": {
        "id": "39fbd9b2",
        "colab": {
          "base_uri": "https://localhost:8080/"
        },
        "outputId": "cf3f1612-b610-4666-e5c7-2e7b0abb2b4a"
      },
      "outputs": [
        {
          "output_type": "stream",
          "name": "stdout",
          "text": [
            "[2, 2, 3, 4, 5]\n"
          ]
        }
      ],
      "source": [
        "def strongest_neighbour(arr):\n",
        "    n = len(arr)\n",
        "    result = []\n",
        "    for i in range(n-1):\n",
        "        if(arr[i]>arr[i+1]):\n",
        "          result.append(arr[i])\n",
        "        else:\n",
        "          result.append(arr[i+1])\n",
        "    return result\n",
        "\n",
        "arr = [1, 2, 2, 3, 4, 5]\n",
        "output = strongest_neighbour(arr)\n",
        "print(output)\n"
      ]
    },
    {
      "cell_type": "markdown",
      "id": "a9fa8baf",
      "metadata": {
        "id": "a9fa8baf"
      },
      "source": [
        "**33-write a Python Program to print all Possible Combinations from the three Digits (Input: [1, 2, 3]\n",
        "Output:\n",
        "1 2 3 ##\n",
        "1 3 2 ##\n",
        "2 1 3 ##\n",
        "2 3 1 ##\n",
        "3 1 2 ##\n",
        "3 2 1)"
      ]
    },
    {
      "cell_type": "code",
      "execution_count": 62,
      "id": "8c520a76",
      "metadata": {
        "id": "8c520a76",
        "colab": {
          "base_uri": "https://localhost:8080/"
        },
        "outputId": "fc600f77-3e8b-4361-ffb6-955132eb388a"
      },
      "outputs": [
        {
          "output_type": "stream",
          "name": "stdout",
          "text": [
            "1 2 3 ## 1 3 2 ## 2 1 3 ## 2 3 1 ## 3 1 2 ## 3 2 1 ## "
          ]
        }
      ],
      "source": [
        "def all_combinations(digits):\n",
        "    for i in digits:\n",
        "        for j in digits:\n",
        "            for k in digits:\n",
        "                if i != j and j != k and i != k:\n",
        "                    print(i, j, k, end=\" ## \")\n",
        "\n",
        "\n",
        "digits = [1, 2, 3]\n",
        "all_combinations(digits)\n"
      ]
    },
    {
      "cell_type": "markdown",
      "id": "5288bb89",
      "metadata": {
        "id": "5288bb89"
      },
      "source": [
        "**34-write a Python program to find all the Combinations in the list with the given condition (Input: test_list = [1,2,3]\n",
        "Output:\n",
        " [1], [1, 2], [1, 2, 3], [1, 3]\n",
        " [2], [2, 3], [3])"
      ]
    },
    {
      "cell_type": "code",
      "execution_count": 61,
      "id": "59b89646",
      "metadata": {
        "id": "59b89646",
        "colab": {
          "base_uri": "https://localhost:8080/"
        },
        "outputId": "65767f83-f8d7-4763-beef-5b4e360a5fc6"
      },
      "outputs": [
        {
          "output_type": "stream",
          "name": "stdout",
          "text": [
            "[1]\n",
            "[1, 2]\n",
            "[1, 2, 3]\n",
            "[2]\n",
            "[2, 3]\n",
            "[3]\n"
          ]
        }
      ],
      "source": [
        "def find_combinations(test_list):\n",
        "    n = len(test_list)\n",
        "    for i in range(n):\n",
        "        for j in range(i, n):\n",
        "            print(test_list[i:j+1])\n",
        "\n",
        "test_list = [1, 2, 3]\n",
        "find_combinations(test_list)\n"
      ]
    },
    {
      "cell_type": "markdown",
      "id": "39973705",
      "metadata": {
        "id": "39973705"
      },
      "source": [
        "**35-write a Python program to get all unique combinations of two Lists (List_1 = [\"a\",\"b\"]\n",
        "List_2 = [1,2]\n",
        "Unique_combination = [[('a',1),('b',2)],[('a',2),('b',1)]] )"
      ]
    },
    {
      "cell_type": "code",
      "execution_count": 63,
      "id": "8c4ba22b",
      "metadata": {
        "id": "8c4ba22b",
        "colab": {
          "base_uri": "https://localhost:8080/"
        },
        "outputId": "a69766e1-19f5-49a0-f806-b4875e5a0343"
      },
      "outputs": [
        {
          "output_type": "stream",
          "name": "stdout",
          "text": [
            "[[('a', 1), ('b', 2)], [('a', 2), ('b', 1)]]\n"
          ]
        }
      ],
      "source": [
        "from itertools import permutations\n",
        "\n",
        "def unique_combinations(list1, list2):\n",
        "    result = []\n",
        "    for perm in permutations(list2):\n",
        "        pair = list(zip(list1, perm))\n",
        "        result.append(pair)\n",
        "    return result\n",
        "\n",
        "List_1 = [\"a\", \"b\"]\n",
        "List_2 = [1, 2]\n",
        "unique_combination = unique_combinations(List_1, List_2)\n",
        "print(unique_combination)\n"
      ]
    },
    {
      "cell_type": "markdown",
      "id": "25199af5",
      "metadata": {
        "id": "25199af5"
      },
      "source": [
        "**36-Remove all the occurrences of an element from a list in Python (Input : 1 1 2 3 4 5 1 2 1\n",
        "\n",
        "**Output : 2 3 4 5 2)"
      ]
    },
    {
      "cell_type": "code",
      "execution_count": 64,
      "id": "6dc4c2ba",
      "metadata": {
        "id": "6dc4c2ba",
        "colab": {
          "base_uri": "https://localhost:8080/"
        },
        "outputId": "812d7d28-77df-4af8-8675-2766c1991d80"
      },
      "outputs": [
        {
          "output_type": "stream",
          "name": "stdout",
          "text": [
            "2 3 4 5 2\n"
          ]
        }
      ],
      "source": [
        "def remove_occurrences(input_list, element):\n",
        "    return [x for x in input_list if x != element]\n",
        "\n",
        "input_list = [1, 1, 2, 3, 4, 5, 1, 2, 1]\n",
        "element_to_remove = 1\n",
        "output_list = remove_occurrences(input_list, element_to_remove)\n",
        "print(*output_list)\n"
      ]
    },
    {
      "cell_type": "markdown",
      "id": "bf1a3c93",
      "metadata": {
        "id": "bf1a3c93"
      },
      "source": [
        "**37-write a python program to Replace index elements with elements in Other List (The original list 1 is : [‘Gfg’, ‘is’, ‘best’] The original list 2 is : [0, 1, 2, 1, 0, 0, 0, 2, 1, 1, 2, 0] The lists after index elements replacements is : [‘Gfg’, ‘is’, ‘best’, ‘is’, ‘Gfg’, ‘Gfg’, ‘Gfg’, ‘best’, ‘is’, ‘is’, ‘best’, ‘Gfg’])"
      ]
    },
    {
      "cell_type": "code",
      "execution_count": 65,
      "id": "fdd66a71",
      "metadata": {
        "id": "fdd66a71",
        "colab": {
          "base_uri": "https://localhost:8080/"
        },
        "outputId": "334ca481-bc55-417c-bc39-d9f5107ce401"
      },
      "outputs": [
        {
          "output_type": "stream",
          "name": "stdout",
          "text": [
            "['Gfg', 'is', 'best', 'is', 'Gfg', 'Gfg', 'Gfg', 'best', 'is', 'is', 'best', 'Gfg']\n"
          ]
        }
      ],
      "source": [
        "def replace_with_other_list(list1, list2):\n",
        "    return [list1[i] for i in list2]\n",
        "\n",
        "list1 = ['Gfg', 'is', 'best']\n",
        "list2 = [0, 1, 2, 1, 0, 0, 0, 2, 1, 1, 2, 0]\n",
        "result = replace_with_other_list(list1, list2)\n",
        "print(result)\n"
      ]
    },
    {
      "cell_type": "markdown",
      "id": "af0f56e8",
      "metadata": {
        "id": "af0f56e8"
      },
      "source": [
        "**38- write python program to Retain records with N occurrences of K(Input : test_list = [(4, 5, 5, 4), (5, 4, 3)], K = 5, N = 2\n",
        "Output : [(4, 5, 5, 4)]\n",
        "Input : test_list = [(4, 5, 5, 4), (5, 4, 3)], K = 5, N = 3\n",
        "Output : [] )"
      ]
    },
    {
      "cell_type": "code",
      "execution_count": 66,
      "id": "67b06671",
      "metadata": {
        "id": "67b06671",
        "colab": {
          "base_uri": "https://localhost:8080/"
        },
        "outputId": "d06b1cfc-790f-44a2-e850-569d5c97ce79"
      },
      "outputs": [
        {
          "output_type": "stream",
          "name": "stdout",
          "text": [
            "[(4, 5, 5, 4)]\n",
            "[]\n"
          ]
        }
      ],
      "source": [
        "def retain_records(test_list, K, N):\n",
        "    return [record for record in test_list if record.count(K) == N]\n",
        "\n",
        "test_list1 = [(4, 5, 5, 4), (5, 4, 3)]\n",
        "K1 = 5\n",
        "N1 = 2\n",
        "result1 = retain_records(test_list1, K1, N1)\n",
        "print(result1)\n",
        "\n",
        "test_list2 = [(4, 5, 5, 4), (5, 4, 3)]\n",
        "K2 = 5\n",
        "N2 = 3\n",
        "result2 = retain_records(test_list2, K2, N2)\n",
        "print(result2)\n"
      ]
    },
    {
      "cell_type": "markdown",
      "id": "de76f183",
      "metadata": {
        "id": "de76f183"
      },
      "source": [
        "**39-write a Python Program to Sort the list according to the column using lambda\n",
        "array = [[1, 3, 3], [2, 1, 2], [3, 2, 1]]\n",
        "Output :\n",
        "Sorted array specific to column 0, [[1, 3, 3], [2, 1, 2], [3, 2, 1]]\n",
        "Sorted array specific to column 1, [[2, 1, 2], [3, 2, 1], [1, 3, 3]]\n",
        "Sorted array specific to column 2, [[3, 2, 1], [2, 1, 2], [1, 3, 3]]"
      ]
    },
    {
      "cell_type": "code",
      "execution_count": 67,
      "id": "dc883308",
      "metadata": {
        "id": "dc883308",
        "colab": {
          "base_uri": "https://localhost:8080/"
        },
        "outputId": "9e025f1b-9e4c-408e-b079-f24c4c089093"
      },
      "outputs": [
        {
          "output_type": "stream",
          "name": "stdout",
          "text": [
            "Sorted array specific to column 0: [[1, 3, 3], [2, 1, 2], [3, 2, 1]]\n",
            "Sorted array specific to column 1: [[2, 1, 2], [3, 2, 1], [1, 3, 3]]\n",
            "Sorted array specific to column 2: [[3, 2, 1], [2, 1, 2], [1, 3, 3]]\n"
          ]
        }
      ],
      "source": [
        "def sort_by_column(array, column):\n",
        "    return sorted(array, key=lambda x: x[column])\n",
        "\n",
        "array = [[1, 3, 3], [2, 1, 2], [3, 2, 1]]\n",
        "\n",
        "sorted_col_0 = sort_by_column(array, 0)\n",
        "print(\"Sorted array specific to column 0:\", sorted_col_0)\n",
        "\n",
        "sorted_col_1 = sort_by_column(array, 1)\n",
        "print(\"Sorted array specific to column 1:\", sorted_col_1)\n",
        "\n",
        "sorted_col_2 = sort_by_column(array, 2)\n",
        "print(\"Sorted array specific to column 2:\", sorted_col_2)\n"
      ]
    },
    {
      "cell_type": "markdown",
      "source": [
        "**40- write a program to Sort Python Dictionaries by Key or Value\n",
        "Input:\n",
        "{'ravi': 10, 'rajnish': 9, 'sanjeev': 15, 'yash': 2, 'suraj': 32}\n",
        "\n",
        "Output:\n",
        "{'rajnish': 9, 'ravi': 10, 'sanjeev': 15, 'suraj': 32, 'yash': 2}"
      ],
      "metadata": {
        "id": "9y8U6MUaJtuk"
      },
      "id": "9y8U6MUaJtuk"
    },
    {
      "cell_type": "code",
      "execution_count": 68,
      "id": "d2e7b31f",
      "metadata": {
        "id": "d2e7b31f",
        "colab": {
          "base_uri": "https://localhost:8080/"
        },
        "outputId": "06860e5f-d1ff-4cad-dacb-765fda75ad03"
      },
      "outputs": [
        {
          "output_type": "stream",
          "name": "stdout",
          "text": [
            "Sorted by Key: {'rajnish': 9, 'ravi': 10, 'sanjeev': 15, 'suraj': 32, 'yash': 2}\n"
          ]
        }
      ],
      "source": [
        "def sort_dict_by_key(input_dict):\n",
        "    return dict(sorted(input_dict.items()))\n",
        "\n",
        "input_dict = {'ravi': 10, 'rajnish': 9, 'sanjeev': 15, 'yash': 2, 'suraj': 32}\n",
        "sorted_dict = sort_dict_by_key(input_dict)\n",
        "print(\"Sorted by Key:\", sorted_dict)\n"
      ]
    },
    {
      "cell_type": "code",
      "execution_count": null,
      "id": "a96db4a0",
      "metadata": {
        "id": "a96db4a0"
      },
      "outputs": [],
      "source": []
    },
    {
      "cell_type": "markdown",
      "id": "ec63c23a",
      "metadata": {
        "id": "ec63c23a"
      },
      "source": [
        "**41-write python program to Remove keys with Values Greater than K ( Including mixed values )\n",
        "nput : test_dict = {‘Gfg’ : 3, ‘is’ : 7, ‘best’ : 10, ‘for’ : 6, ‘geeks’ : ‘CS’},\n",
        "K = 7\n",
        "Output : {‘Gfg’ : 3, ‘for’ : 6, ‘geeks’ : ‘CS’}"
      ]
    },
    {
      "cell_type": "code",
      "execution_count": 69,
      "id": "e39c3a40",
      "metadata": {
        "id": "e39c3a40",
        "colab": {
          "base_uri": "https://localhost:8080/"
        },
        "outputId": "98b6cfc4-d2d6-465d-db68-ad1fe84ce6b5"
      },
      "outputs": [
        {
          "output_type": "stream",
          "name": "stdout",
          "text": [
            "{'Gfg': 3, 'is': 7, 'for': 6, 'geeks': 'CS'}\n"
          ]
        }
      ],
      "source": [
        "def remove_keys_with_value_greater_than_K(test_dict, K):\n",
        "    return {key: value for key, value in test_dict.items() if (isinstance(value, int) and value <= K) or not isinstance(value, int)}\n",
        "\n",
        "test_dict = {'Gfg': 3, 'is': 7, 'best': 10, 'for': 6, 'geeks': 'CS'}\n",
        "K = 7\n",
        "result = remove_keys_with_value_greater_than_K(test_dict, K)\n",
        "print(result)\n"
      ]
    },
    {
      "cell_type": "markdown",
      "id": "f143f0fe",
      "metadata": {
        "id": "f143f0fe"
      },
      "source": [
        "**42-Write a Python program to concatenate the following dictionaries to create a new one\n",
        "\n",
        "Sample Dictionary :\n",
        "dic1={1:10, 2:20}\n",
        "dic2={3:30, 4:40}\n",
        "dic3={5:50,6:60}\n",
        "Expected Result : {1: 10, 2: 20, 3: 30, 4: 40, 5: 50, 6: 60}"
      ]
    },
    {
      "cell_type": "code",
      "execution_count": 70,
      "id": "74ffdfea",
      "metadata": {
        "id": "74ffdfea",
        "colab": {
          "base_uri": "https://localhost:8080/"
        },
        "outputId": "b8512cd4-675d-4d00-c4e6-f36ded181762"
      },
      "outputs": [
        {
          "output_type": "stream",
          "name": "stdout",
          "text": [
            "{1: 10, 2: 20, 3: 30, 4: 40, 5: 50, 6: 60}\n"
          ]
        }
      ],
      "source": [
        "def concatenate_dicts(*dicts):\n",
        "    result = {}\n",
        "    for dic in dicts:\n",
        "        result.update(dic)\n",
        "    return result\n",
        "\n",
        "dic1 = {1: 10, 2: 20}\n",
        "dic2 = {3: 30, 4: 40}\n",
        "dic3 = {5: 50, 6: 60}\n",
        "\n",
        "result = concatenate_dicts(dic1, dic2, dic3)\n",
        "print(result)\n"
      ]
    },
    {
      "cell_type": "markdown",
      "id": "fb04c93c",
      "metadata": {
        "id": "fb04c93c"
      },
      "source": [
        "**43-Write a Python program to iterate over dictionaries using for loops"
      ]
    },
    {
      "cell_type": "code",
      "execution_count": 71,
      "id": "6aebc470",
      "metadata": {
        "id": "6aebc470",
        "colab": {
          "base_uri": "https://localhost:8080/"
        },
        "outputId": "df770152-56ca-4e76-8457-d60034177c21"
      },
      "outputs": [
        {
          "output_type": "stream",
          "name": "stdout",
          "text": [
            "a 1\n",
            "b 2\n",
            "c 3\n"
          ]
        }
      ],
      "source": [
        "def iterate_over_keys(test_dict):\n",
        "    for key in test_dict:\n",
        "        print(key, test_dict[key])\n",
        "\n",
        "test_dict = {'a': 1, 'b': 2, 'c': 3}\n",
        "iterate_over_keys(test_dict)\n"
      ]
    },
    {
      "cell_type": "markdown",
      "id": "5f491a9d",
      "metadata": {
        "id": "5f491a9d"
      },
      "source": [
        "**44- Write a Python script to merge two Python dictionaries"
      ]
    },
    {
      "cell_type": "code",
      "execution_count": 72,
      "id": "b8a14028",
      "metadata": {
        "id": "b8a14028",
        "colab": {
          "base_uri": "https://localhost:8080/"
        },
        "outputId": "438e0f72-7997-4ade-c499-bb35e767b7fb"
      },
      "outputs": [
        {
          "output_type": "stream",
          "name": "stdout",
          "text": [
            "{'a': 1, 'b': 2, 'c': 3, 'd': 4}\n"
          ]
        }
      ],
      "source": [
        "def merge_dicts(dic1, dic2):\n",
        "    dic1.update(dic2)\n",
        "    return dic1\n",
        "\n",
        "dic1 = {'a': 1, 'b': 2}\n",
        "dic2 = {'c': 3, 'd': 4}\n",
        "\n",
        "merged_dict = merge_dicts(dic1, dic2)\n",
        "print(merged_dict)\n",
        "\n"
      ]
    },
    {
      "cell_type": "markdown",
      "id": "216fc72d",
      "metadata": {
        "id": "216fc72d"
      },
      "source": [
        "**45-Write a Python program to get the maximum and minimum values of a dictionary values"
      ]
    },
    {
      "cell_type": "code",
      "execution_count": 74,
      "id": "d6883f5f",
      "metadata": {
        "id": "d6883f5f",
        "colab": {
          "base_uri": "https://localhost:8080/"
        },
        "outputId": "f54b5f39-bcb5-49eb-cd2a-f3c1396b2929"
      },
      "outputs": [
        {
          "output_type": "stream",
          "name": "stdout",
          "text": [
            "Maximum value: 20\n",
            "Minimum value: 5\n"
          ]
        }
      ],
      "source": [
        "def get_max_min_values(test_dict):\n",
        "    max_value = min_value = list(test_dict.values())[0]\n",
        "\n",
        "    for value in test_dict.values():\n",
        "        if value > max_value:\n",
        "            max_value = value\n",
        "        if value < min_value:\n",
        "            min_value = value\n",
        "\n",
        "    return max_value, min_value\n",
        "\n",
        "test_dict = {'a': 10, 'b': 20, 'c': 5, 'd': 15}\n",
        "\n",
        "max_val, min_val = get_max_min_values(test_dict)\n",
        "print(\"Maximum value:\", max_val)\n",
        "print(\"Minimum value:\", min_val)\n"
      ]
    },
    {
      "cell_type": "markdown",
      "id": "b6a53011",
      "metadata": {
        "id": "b6a53011"
      },
      "source": [
        "**46- Write a Python program to drop empty items from a given dictionary.\n",
        "Original Dictionary:\n",
        "{'c1': 'Red', 'c2': 'Green', 'c3': None}\n",
        "New Dictionary after dropping empty items:\n",
        "{'c1': 'Red', 'c2': 'Green'}"
      ]
    },
    {
      "cell_type": "code",
      "execution_count": 75,
      "id": "b5c6fecf",
      "metadata": {
        "id": "b5c6fecf",
        "colab": {
          "base_uri": "https://localhost:8080/"
        },
        "outputId": "b069bdd8-d678-4476-c361-d8185beafade"
      },
      "outputs": [
        {
          "output_type": "stream",
          "name": "stdout",
          "text": [
            "New Dictionary after dropping empty items: {'c1': 'Red', 'c2': 'Green'}\n"
          ]
        }
      ],
      "source": [
        "def drop_empty_items(test_dict):\n",
        "    return {key: value for key, value in test_dict.items() if value is not None}\n",
        "\n",
        "test_dict = {'c1': 'Red', 'c2': 'Green', 'c3': None}\n",
        "\n",
        "new_dict = drop_empty_items(test_dict)\n",
        "print(\"New Dictionary after dropping empty items:\", new_dict)\n"
      ]
    },
    {
      "cell_type": "markdown",
      "id": "46d718c7",
      "metadata": {
        "id": "46d718c7"
      },
      "source": [
        "**47-Write a Python program to create a tuple of numbers and print one item"
      ]
    },
    {
      "cell_type": "code",
      "execution_count": 76,
      "id": "13216ff5",
      "metadata": {
        "id": "13216ff5",
        "colab": {
          "base_uri": "https://localhost:8080/"
        },
        "outputId": "2510518e-cba3-419e-cbc7-fb2c0f2bc632"
      },
      "outputs": [
        {
          "output_type": "stream",
          "name": "stdout",
          "text": [
            "The third item in the tuple is: 30\n"
          ]
        }
      ],
      "source": [
        "numbers_tuple = (10, 20, 30, 40, 50)\n",
        "\n",
        "print(\"The third item in the tuple is:\", numbers_tuple[2])\n"
      ]
    },
    {
      "cell_type": "markdown",
      "id": "2be5b56b",
      "metadata": {
        "id": "2be5b56b"
      },
      "source": [
        "**48-Write a Python program to unpack a tuple into several variables"
      ]
    },
    {
      "cell_type": "code",
      "execution_count": 77,
      "id": "595f44be",
      "metadata": {
        "id": "595f44be",
        "colab": {
          "base_uri": "https://localhost:8080/"
        },
        "outputId": "f1311532-ba35-4175-e807-fabfb915aae1"
      },
      "outputs": [
        {
          "output_type": "stream",
          "name": "stdout",
          "text": [
            "Unpacked values:\n",
            "a = 10\n",
            "b = 20\n",
            "c = 30\n",
            "d = 40\n",
            "e = 50\n"
          ]
        }
      ],
      "source": [
        "numbers_tuple = (10, 20, 30, 40, 50)\n",
        "\n",
        "a, b, c, d, e = numbers_tuple\n",
        "\n",
        "print(\"Unpacked values:\")\n",
        "print(\"a =\", a)\n",
        "print(\"b =\", b)\n",
        "print(\"c =\", c)\n",
        "print(\"d =\", d)\n",
        "print(\"e =\", e)\n",
        "\n"
      ]
    },
    {
      "cell_type": "markdown",
      "id": "392388a7",
      "metadata": {
        "id": "392388a7"
      },
      "source": [
        "**49-Write a Python program to add an item to a tuple"
      ]
    },
    {
      "cell_type": "code",
      "execution_count": 78,
      "id": "54cc092e",
      "metadata": {
        "id": "54cc092e",
        "colab": {
          "base_uri": "https://localhost:8080/"
        },
        "outputId": "e255af2b-ad74-4c7a-9bd2-34d971bc7996"
      },
      "outputs": [
        {
          "output_type": "stream",
          "name": "stdout",
          "text": [
            "Updated tuple: (10, 20, 30, 40, 50)\n"
          ]
        }
      ],
      "source": [
        "numbers_tuple = (10, 20, 30, 40)\n",
        "\n",
        "new_item = 50\n",
        "updated_tuple = numbers_tuple + (new_item,)\n",
        "\n",
        "print(\"Updated tuple:\", updated_tuple)\n"
      ]
    },
    {
      "cell_type": "markdown",
      "id": "3e8fd124",
      "metadata": {
        "id": "3e8fd124"
      },
      "source": [
        "**50-Write a Python program to convert a tuple to a string"
      ]
    },
    {
      "cell_type": "code",
      "execution_count": 79,
      "id": "92a71ddc",
      "metadata": {
        "id": "92a71ddc",
        "colab": {
          "base_uri": "https://localhost:8080/"
        },
        "outputId": "754df957-9359-4c8b-e636-fdc61592c1c8"
      },
      "outputs": [
        {
          "output_type": "stream",
          "name": "stdout",
          "text": [
            "Converted string: Python34\n"
          ]
        }
      ],
      "source": [
        "tuple_example = ('P', 'y', 't', 'h', 'o', 'n', 3, 4)\n",
        "\n",
        "result_string = ''.join(map(str, tuple_example))\n",
        "\n",
        "print(\"Converted string:\", result_string)\n"
      ]
    },
    {
      "cell_type": "markdown",
      "id": "f4f64ef4",
      "metadata": {
        "id": "f4f64ef4"
      },
      "source": [
        "**51-Write a Python program to convert a list to a tuple"
      ]
    },
    {
      "cell_type": "code",
      "execution_count": 80,
      "id": "210d56d3",
      "metadata": {
        "id": "210d56d3",
        "colab": {
          "base_uri": "https://localhost:8080/"
        },
        "outputId": "88e324e7-8159-4988-cc50-e3dfefc0ceea"
      },
      "outputs": [
        {
          "output_type": "stream",
          "name": "stdout",
          "text": [
            "Converted tuple: (1, 2, 3, 4, 5)\n"
          ]
        }
      ],
      "source": [
        "my_list = [1, 2, 3, 4, 5]\n",
        "\n",
        "my_tuple = tuple(my_list)\n",
        "\n",
        "print(\"Converted tuple:\", my_tuple)\n"
      ]
    },
    {
      "cell_type": "markdown",
      "id": "b1e00ef7",
      "metadata": {
        "id": "b1e00ef7"
      },
      "source": [
        "**52-Write a Python program to reverse a tuple"
      ]
    },
    {
      "cell_type": "code",
      "execution_count": 81,
      "id": "f45bfdc7",
      "metadata": {
        "id": "f45bfdc7",
        "colab": {
          "base_uri": "https://localhost:8080/"
        },
        "outputId": "9cc55fd3-b270-4923-fcd2-69ef060a494f"
      },
      "outputs": [
        {
          "output_type": "stream",
          "name": "stdout",
          "text": [
            "Reversed tuple: (5, 4, 3, 2, 1)\n"
          ]
        }
      ],
      "source": [
        "my_tuple = (1, 2, 3, 4, 5)\n",
        "\n",
        "reversed_tuple = my_tuple[::-1]\n",
        "\n",
        "print(\"Reversed tuple:\", reversed_tuple)\n"
      ]
    },
    {
      "cell_type": "markdown",
      "id": "3cd347d1",
      "metadata": {
        "id": "3cd347d1"
      },
      "source": [
        "**53-Write a Python program to replace the last value of tuples in a list.\n",
        "Sample list: [(10, 20, 40), (40, 50, 60), (70, 80, 90)]\n",
        "Expected Output: [(10, 20, 100), (40, 50, 100), (70, 80, 100)]"
      ]
    },
    {
      "cell_type": "code",
      "execution_count": 82,
      "id": "3c4a2a4c",
      "metadata": {
        "id": "3c4a2a4c",
        "colab": {
          "base_uri": "https://localhost:8080/"
        },
        "outputId": "be5f5856-855e-48a5-b178-bd7462e20733"
      },
      "outputs": [
        {
          "output_type": "stream",
          "name": "stdout",
          "text": [
            "Updated List: [(10, 20, 100), (40, 50, 100), (70, 80, 100)]\n"
          ]
        }
      ],
      "source": [
        "sample_list = [(10, 20, 40), (40, 50, 60), (70, 80, 90)]\n",
        "\n",
        "updated_list = [(tup[:-1] + (100,)) for tup in sample_list]\n",
        "\n",
        "print(\"Updated List:\", updated_list)\n"
      ]
    },
    {
      "cell_type": "markdown",
      "id": "76bb7b39",
      "metadata": {
        "id": "76bb7b39"
      },
      "source": [
        "**54-Write a Python program to convert a given string list to a tuple\n",
        "Original string: python 3.0\n",
        "<class 'str'>\n",
        "Convert the said string to a tuple:\n",
        "('p', 'y', 't', 'h', 'o', 'n', '3', '.', '0')"
      ]
    },
    {
      "cell_type": "code",
      "execution_count": 83,
      "id": "51951937",
      "metadata": {
        "id": "51951937",
        "colab": {
          "base_uri": "https://localhost:8080/"
        },
        "outputId": "fd2c9c94-95a7-4cf9-cbd4-5534f5fcee59"
      },
      "outputs": [
        {
          "output_type": "stream",
          "name": "stdout",
          "text": [
            "Convert the said string to a tuple: ('p', 'y', 't', 'h', 'o', 'n', ' ', '3', '.', '0')\n"
          ]
        }
      ],
      "source": [
        "original_string = \"python 3.0\"\n",
        "\n",
        "string_to_tuple = tuple(original_string)\n",
        "\n",
        "print(\"Convert the said string to a tuple:\", string_to_tuple)\n"
      ]
    },
    {
      "cell_type": "markdown",
      "id": "5a1d5d97",
      "metadata": {
        "id": "5a1d5d97"
      },
      "source": [
        "**55-Write a Python program to calculate the average value of the numbers in a given tuple of tuples"
      ]
    },
    {
      "cell_type": "code",
      "execution_count": 84,
      "id": "834e7992",
      "metadata": {
        "id": "834e7992",
        "colab": {
          "base_uri": "https://localhost:8080/"
        },
        "outputId": "628b686f-38b3-4f73-8021-7ed8f08ef3ee"
      },
      "outputs": [
        {
          "output_type": "stream",
          "name": "stdout",
          "text": [
            "Average value: 50.0\n"
          ]
        }
      ],
      "source": [
        "tuple_of_tuples = ((10, 20, 30), (40, 50, 60), (70, 80, 90))\n",
        "\n",
        "flattened_numbers = [num for sub_tuple in tuple_of_tuples for num in sub_tuple]\n",
        "average = sum(flattened_numbers) / len(flattened_numbers)\n",
        "\n",
        "print(\"Average value:\", average)\n"
      ]
    },
    {
      "cell_type": "markdown",
      "id": "51edab9c",
      "metadata": {
        "id": "51edab9c"
      },
      "source": [
        "**56-Write a Python program to add member(s) to a set."
      ]
    },
    {
      "cell_type": "code",
      "execution_count": 85,
      "id": "2b65df79",
      "metadata": {
        "id": "2b65df79",
        "colab": {
          "base_uri": "https://localhost:8080/"
        },
        "outputId": "4468a986-f42e-442f-947f-c3e76fcf9ea3"
      },
      "outputs": [
        {
          "output_type": "stream",
          "name": "stdout",
          "text": [
            "Set after adding a single member: {1, 2, 3, 4, 5}\n",
            "Set after adding multiple members: {1, 2, 3, 4, 5, 6, 7, 8}\n"
          ]
        }
      ],
      "source": [
        "my_set = {1, 2, 3, 4}\n",
        "\n",
        "my_set.add(5)\n",
        "print(\"Set after adding a single member:\", my_set)\n",
        "\n",
        "my_set.update([6, 7, 8])\n",
        "print(\"Set after adding multiple members:\", my_set)\n",
        "\n"
      ]
    },
    {
      "cell_type": "markdown",
      "id": "965590cc",
      "metadata": {
        "id": "965590cc"
      },
      "source": [
        "**57-Write a Python program to remove an item from a set if it is present in the set."
      ]
    },
    {
      "cell_type": "code",
      "execution_count": 86,
      "id": "866bab28",
      "metadata": {
        "id": "866bab28",
        "colab": {
          "base_uri": "https://localhost:8080/"
        },
        "outputId": "a22110e7-3c84-401e-820a-d7da4c5ad79f"
      },
      "outputs": [
        {
          "output_type": "stream",
          "name": "stdout",
          "text": [
            "Set after removal: {1, 2, 4, 5}\n"
          ]
        }
      ],
      "source": [
        "my_set = {1, 2, 3, 4, 5}\n",
        "\n",
        "item_to_remove = 3\n",
        "\n",
        "my_set.discard(item_to_remove)\n",
        "\n",
        "print(\"Set after removal:\", my_set)\n"
      ]
    },
    {
      "cell_type": "markdown",
      "id": "2b7cfed1",
      "metadata": {
        "id": "2b7cfed1"
      },
      "source": [
        "**58-Write a Python program to create an intersection,union,difference and symmetric difference of sets"
      ]
    },
    {
      "cell_type": "code",
      "execution_count": 87,
      "id": "7f94b7fe",
      "metadata": {
        "id": "7f94b7fe",
        "colab": {
          "base_uri": "https://localhost:8080/"
        },
        "outputId": "ccbcb4d7-14ff-47f9-df67-94a964acd565"
      },
      "outputs": [
        {
          "output_type": "stream",
          "name": "stdout",
          "text": [
            "Intersection of sets: {4, 5}\n",
            "Union of sets: {1, 2, 3, 4, 5, 6, 7, 8}\n",
            "Difference of sets (set1 - set2): {1, 2, 3}\n",
            "Symmetric Difference of sets: {1, 2, 3, 6, 7, 8}\n"
          ]
        }
      ],
      "source": [
        "set1 = {1, 2, 3, 4, 5}\n",
        "set2 = {4, 5, 6, 7, 8}\n",
        "\n",
        "intersection = set1 & set2\n",
        "\n",
        "union = set1 | set2\n",
        "\n",
        "difference = set1 - set2\n",
        "\n",
        "symmetric_difference = set1 ^ set2\n",
        "\n",
        "print(\"Intersection of sets:\", intersection)\n",
        "print(\"Union of sets:\", union)\n",
        "print(\"Difference of sets (set1 - set2):\", difference)\n",
        "print(\"Symmetric Difference of sets:\", symmetric_difference)\n"
      ]
    },
    {
      "cell_type": "markdown",
      "id": "b94931e2",
      "metadata": {
        "id": "b94931e2"
      },
      "source": [
        "**59-Write a Python program to find the maximum and minimum values in a set"
      ]
    },
    {
      "cell_type": "code",
      "execution_count": 89,
      "id": "203f9600",
      "metadata": {
        "id": "203f9600",
        "colab": {
          "base_uri": "https://localhost:8080/"
        },
        "outputId": "38b12154-804b-477d-820d-bca1da8df8e0"
      },
      "outputs": [
        {
          "output_type": "stream",
          "name": "stdout",
          "text": [
            "Maximum value in the set: 50\n",
            "Minimum value in the set: 10\n"
          ]
        }
      ],
      "source": [
        "my_set = {10, 20, 30, 40, 50}\n",
        "\n",
        "max_value = my_set.pop()\n",
        "min_value = max_value\n",
        "\n",
        "for num in my_set:\n",
        "    if num > max_value:\n",
        "        max_value = num\n",
        "    if num < min_value:\n",
        "        min_value = num\n",
        "\n",
        "print(\"Maximum value in the set:\", max_value)\n",
        "print(\"Minimum value in the set:\", min_value)\n"
      ]
    },
    {
      "cell_type": "markdown",
      "id": "255fd554",
      "metadata": {
        "id": "255fd554"
      },
      "source": [
        "**60- Write a Python program that finds all pairs of elements in a list whose sum is equal to a given value."
      ]
    },
    {
      "cell_type": "code",
      "execution_count": 90,
      "id": "c2d94e1f",
      "metadata": {
        "id": "c2d94e1f",
        "colab": {
          "base_uri": "https://localhost:8080/"
        },
        "outputId": "85326f23-71a9-450c-9e7a-a5fcf104949b"
      },
      "outputs": [
        {
          "output_type": "stream",
          "name": "stdout",
          "text": [
            "Pairs with sum 6 : [(2, 4), (1, 5), (7, -1)]\n"
          ]
        }
      ],
      "source": [
        "def find_pairs_with_sum(lst, target_sum):\n",
        "    seen = set()\n",
        "    pairs = []\n",
        "\n",
        "    for num in lst:\n",
        "        complement = target_sum - num\n",
        "        if complement in seen:\n",
        "            pairs.append((complement, num))\n",
        "        seen.add(num)\n",
        "\n",
        "    return pairs\n",
        "\n",
        "my_list = [1, 3, 2, 4, 5, 7, 6, -1]\n",
        "target_sum = 6\n",
        "\n",
        "result = find_pairs_with_sum(my_list, target_sum)\n",
        "\n",
        "print(\"Pairs with sum\", target_sum, \":\", result)\n"
      ]
    },
    {
      "cell_type": "code",
      "source": [
        "\n"
      ],
      "metadata": {
        "id": "LTyD0z70PSUT"
      },
      "id": "LTyD0z70PSUT",
      "execution_count": null,
      "outputs": []
    }
  ],
  "metadata": {
    "kernelspec": {
      "display_name": "Python 3 (ipykernel)",
      "language": "python",
      "name": "python3"
    },
    "language_info": {
      "codemirror_mode": {
        "name": "ipython",
        "version": 3
      },
      "file_extension": ".py",
      "mimetype": "text/x-python",
      "name": "python",
      "nbconvert_exporter": "python",
      "pygments_lexer": "ipython3",
      "version": "3.9.7"
    },
    "colab": {
      "provenance": [],
      "include_colab_link": true
    }
  },
  "nbformat": 4,
  "nbformat_minor": 5
}